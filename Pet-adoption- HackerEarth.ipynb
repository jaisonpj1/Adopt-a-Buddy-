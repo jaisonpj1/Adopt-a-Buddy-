{
 "cells": [
  {
   "cell_type": "code",
   "execution_count": 1,
   "metadata": {},
   "outputs": [],
   "source": [
    "import pandas as pd\n",
    "import numpy as np"
   ]
  },
  {
   "cell_type": "code",
   "execution_count": 2,
   "metadata": {},
   "outputs": [],
   "source": [
    "pet_train=pd.read_csv(r\"C:\\Users\\JaisoN\\Desktop\\Desktop\\Hacker_Earth\\Adopt a buddy\\Dataset\\train.csv\")\n",
    "pet_test=pd.read_csv(r\"C:\\Users\\JaisoN\\Desktop\\Desktop\\Hacker_Earth\\Adopt a buddy\\Dataset\\test.csv\")"
   ]
  },
  {
   "cell_type": "code",
   "execution_count": 3,
   "metadata": {
    "scrolled": true
   },
   "outputs": [
    {
     "data": {
      "text/html": [
       "<div>\n",
       "<style scoped>\n",
       "    .dataframe tbody tr th:only-of-type {\n",
       "        vertical-align: middle;\n",
       "    }\n",
       "\n",
       "    .dataframe tbody tr th {\n",
       "        vertical-align: top;\n",
       "    }\n",
       "\n",
       "    .dataframe thead th {\n",
       "        text-align: right;\n",
       "    }\n",
       "</style>\n",
       "<table border=\"1\" class=\"dataframe\">\n",
       "  <thead>\n",
       "    <tr style=\"text-align: right;\">\n",
       "      <th></th>\n",
       "      <th>pet_id</th>\n",
       "      <th>issue_date</th>\n",
       "      <th>listing_date</th>\n",
       "      <th>condition</th>\n",
       "      <th>color_type</th>\n",
       "      <th>length(m)</th>\n",
       "      <th>height(cm)</th>\n",
       "      <th>X1</th>\n",
       "      <th>X2</th>\n",
       "      <th>breed_category</th>\n",
       "      <th>pet_category</th>\n",
       "    </tr>\n",
       "  </thead>\n",
       "  <tbody>\n",
       "    <tr>\n",
       "      <th>0</th>\n",
       "      <td>ANSL_69903</td>\n",
       "      <td>2016-07-10 00:00:00</td>\n",
       "      <td>2016-09-21 16:25:00</td>\n",
       "      <td>2.0</td>\n",
       "      <td>Brown Tabby</td>\n",
       "      <td>0.80</td>\n",
       "      <td>7.78</td>\n",
       "      <td>13</td>\n",
       "      <td>9</td>\n",
       "      <td>0.0</td>\n",
       "      <td>1</td>\n",
       "    </tr>\n",
       "    <tr>\n",
       "      <th>1</th>\n",
       "      <td>ANSL_66892</td>\n",
       "      <td>2013-11-21 00:00:00</td>\n",
       "      <td>2018-12-27 17:47:00</td>\n",
       "      <td>1.0</td>\n",
       "      <td>White</td>\n",
       "      <td>0.72</td>\n",
       "      <td>14.19</td>\n",
       "      <td>13</td>\n",
       "      <td>9</td>\n",
       "      <td>0.0</td>\n",
       "      <td>2</td>\n",
       "    </tr>\n",
       "    <tr>\n",
       "      <th>2</th>\n",
       "      <td>ANSL_69750</td>\n",
       "      <td>2014-09-28 00:00:00</td>\n",
       "      <td>2016-10-19 08:24:00</td>\n",
       "      <td>NaN</td>\n",
       "      <td>Brown</td>\n",
       "      <td>0.15</td>\n",
       "      <td>40.90</td>\n",
       "      <td>15</td>\n",
       "      <td>4</td>\n",
       "      <td>2.0</td>\n",
       "      <td>4</td>\n",
       "    </tr>\n",
       "    <tr>\n",
       "      <th>3</th>\n",
       "      <td>ANSL_71623</td>\n",
       "      <td>2016-12-31 00:00:00</td>\n",
       "      <td>2019-01-25 18:30:00</td>\n",
       "      <td>1.0</td>\n",
       "      <td>White</td>\n",
       "      <td>0.62</td>\n",
       "      <td>17.82</td>\n",
       "      <td>0</td>\n",
       "      <td>1</td>\n",
       "      <td>0.0</td>\n",
       "      <td>2</td>\n",
       "    </tr>\n",
       "    <tr>\n",
       "      <th>4</th>\n",
       "      <td>ANSL_57969</td>\n",
       "      <td>2017-09-28 00:00:00</td>\n",
       "      <td>2017-11-19 09:38:00</td>\n",
       "      <td>2.0</td>\n",
       "      <td>Black</td>\n",
       "      <td>0.50</td>\n",
       "      <td>11.06</td>\n",
       "      <td>18</td>\n",
       "      <td>4</td>\n",
       "      <td>0.0</td>\n",
       "      <td>1</td>\n",
       "    </tr>\n",
       "  </tbody>\n",
       "</table>\n",
       "</div>"
      ],
      "text/plain": [
       "       pet_id           issue_date         listing_date  condition  \\\n",
       "0  ANSL_69903  2016-07-10 00:00:00  2016-09-21 16:25:00        2.0   \n",
       "1  ANSL_66892  2013-11-21 00:00:00  2018-12-27 17:47:00        1.0   \n",
       "2  ANSL_69750  2014-09-28 00:00:00  2016-10-19 08:24:00        NaN   \n",
       "3  ANSL_71623  2016-12-31 00:00:00  2019-01-25 18:30:00        1.0   \n",
       "4  ANSL_57969  2017-09-28 00:00:00  2017-11-19 09:38:00        2.0   \n",
       "\n",
       "    color_type  length(m)  height(cm)  X1  X2  breed_category  pet_category  \n",
       "0  Brown Tabby       0.80        7.78  13   9             0.0             1  \n",
       "1        White       0.72       14.19  13   9             0.0             2  \n",
       "2        Brown       0.15       40.90  15   4             2.0             4  \n",
       "3        White       0.62       17.82   0   1             0.0             2  \n",
       "4        Black       0.50       11.06  18   4             0.0             1  "
      ]
     },
     "execution_count": 3,
     "metadata": {},
     "output_type": "execute_result"
    }
   ],
   "source": [
    "pet_train.head(5)"
   ]
  },
  {
   "cell_type": "code",
   "execution_count": 4,
   "metadata": {},
   "outputs": [
    {
     "data": {
      "text/html": [
       "<div>\n",
       "<style scoped>\n",
       "    .dataframe tbody tr th:only-of-type {\n",
       "        vertical-align: middle;\n",
       "    }\n",
       "\n",
       "    .dataframe tbody tr th {\n",
       "        vertical-align: top;\n",
       "    }\n",
       "\n",
       "    .dataframe thead th {\n",
       "        text-align: right;\n",
       "    }\n",
       "</style>\n",
       "<table border=\"1\" class=\"dataframe\">\n",
       "  <thead>\n",
       "    <tr style=\"text-align: right;\">\n",
       "      <th></th>\n",
       "      <th>pet_id</th>\n",
       "      <th>issue_date</th>\n",
       "      <th>listing_date</th>\n",
       "      <th>condition</th>\n",
       "      <th>color_type</th>\n",
       "      <th>length(m)</th>\n",
       "      <th>height(cm)</th>\n",
       "      <th>X1</th>\n",
       "      <th>X2</th>\n",
       "    </tr>\n",
       "  </thead>\n",
       "  <tbody>\n",
       "    <tr>\n",
       "      <th>0</th>\n",
       "      <td>ANSL_75005</td>\n",
       "      <td>2005-08-17 00:00:00</td>\n",
       "      <td>2017-09-07 15:35:00</td>\n",
       "      <td>0.0</td>\n",
       "      <td>Black</td>\n",
       "      <td>0.87</td>\n",
       "      <td>42.73</td>\n",
       "      <td>0</td>\n",
       "      <td>7</td>\n",
       "    </tr>\n",
       "    <tr>\n",
       "      <th>1</th>\n",
       "      <td>ANSL_76663</td>\n",
       "      <td>2018-11-15 00:00:00</td>\n",
       "      <td>2019-05-08 17:24:00</td>\n",
       "      <td>1.0</td>\n",
       "      <td>Orange Tabby</td>\n",
       "      <td>0.06</td>\n",
       "      <td>6.71</td>\n",
       "      <td>0</td>\n",
       "      <td>1</td>\n",
       "    </tr>\n",
       "    <tr>\n",
       "      <th>2</th>\n",
       "      <td>ANSL_58259</td>\n",
       "      <td>2012-10-11 00:00:00</td>\n",
       "      <td>2018-04-02 16:51:00</td>\n",
       "      <td>1.0</td>\n",
       "      <td>Black</td>\n",
       "      <td>0.24</td>\n",
       "      <td>41.21</td>\n",
       "      <td>0</td>\n",
       "      <td>7</td>\n",
       "    </tr>\n",
       "    <tr>\n",
       "      <th>3</th>\n",
       "      <td>ANSL_67171</td>\n",
       "      <td>2015-02-13 00:00:00</td>\n",
       "      <td>2018-04-06 07:25:00</td>\n",
       "      <td>1.0</td>\n",
       "      <td>Black</td>\n",
       "      <td>0.29</td>\n",
       "      <td>8.46</td>\n",
       "      <td>7</td>\n",
       "      <td>1</td>\n",
       "    </tr>\n",
       "    <tr>\n",
       "      <th>4</th>\n",
       "      <td>ANSL_72871</td>\n",
       "      <td>2017-01-18 00:00:00</td>\n",
       "      <td>2018-04-26 13:42:00</td>\n",
       "      <td>1.0</td>\n",
       "      <td>Brown</td>\n",
       "      <td>0.71</td>\n",
       "      <td>30.92</td>\n",
       "      <td>0</td>\n",
       "      <td>7</td>\n",
       "    </tr>\n",
       "  </tbody>\n",
       "</table>\n",
       "</div>"
      ],
      "text/plain": [
       "       pet_id           issue_date         listing_date  condition  \\\n",
       "0  ANSL_75005  2005-08-17 00:00:00  2017-09-07 15:35:00        0.0   \n",
       "1  ANSL_76663  2018-11-15 00:00:00  2019-05-08 17:24:00        1.0   \n",
       "2  ANSL_58259  2012-10-11 00:00:00  2018-04-02 16:51:00        1.0   \n",
       "3  ANSL_67171  2015-02-13 00:00:00  2018-04-06 07:25:00        1.0   \n",
       "4  ANSL_72871  2017-01-18 00:00:00  2018-04-26 13:42:00        1.0   \n",
       "\n",
       "     color_type  length(m)  height(cm)  X1  X2  \n",
       "0         Black       0.87       42.73   0   7  \n",
       "1  Orange Tabby       0.06        6.71   0   1  \n",
       "2         Black       0.24       41.21   0   7  \n",
       "3         Black       0.29        8.46   7   1  \n",
       "4         Brown       0.71       30.92   0   7  "
      ]
     },
     "execution_count": 4,
     "metadata": {},
     "output_type": "execute_result"
    }
   ],
   "source": [
    "pet_test.head(5)"
   ]
  },
  {
   "cell_type": "code",
   "execution_count": 5,
   "metadata": {},
   "outputs": [
    {
     "name": "stdout",
     "output_type": "stream",
     "text": [
      "(18834, 11) (8072, 9)\n"
     ]
    }
   ],
   "source": [
    "print(pet_train.shape,pet_test.shape)"
   ]
  },
  {
   "cell_type": "code",
   "execution_count": 6,
   "metadata": {},
   "outputs": [],
   "source": [
    "pet_train=pet_train.drop(['pet_id'],axis=1)\n",
    "pet_test=pet_test.drop(['pet_id'],axis=1)"
   ]
  },
  {
   "cell_type": "code",
   "execution_count": 7,
   "metadata": {},
   "outputs": [],
   "source": [
    "# Converting date and time"
   ]
  },
  {
   "cell_type": "code",
   "execution_count": 8,
   "metadata": {},
   "outputs": [],
   "source": [
    "import datetime"
   ]
  },
  {
   "cell_type": "code",
   "execution_count": null,
   "metadata": {},
   "outputs": [],
   "source": []
  },
  {
   "cell_type": "code",
   "execution_count": 9,
   "metadata": {},
   "outputs": [],
   "source": [
    "def extract_date(data):\n",
    "    date = data['issue_date']\n",
    "    d=[]\n",
    "    m=[]\n",
    "    y=[]\n",
    "    for day in date:\n",
    "        dt =pd.to_datetime(datetime.datetime.strptime(day, \"%Y-%m-%d  %H:%M:%S\"))\n",
    "        d.append(dt.day)\n",
    "        m.append(dt.month)\n",
    "        y.append(dt.year)\n",
    "    new_date=pd.DataFrame(np.column_stack([d, m, y]),columns=['DAY_issue','MONTH_issue','YEAR_issue'])\n",
    "    return new_date\n",
    "    "
   ]
  },
  {
   "cell_type": "code",
   "execution_count": 10,
   "metadata": {},
   "outputs": [
    {
     "data": {
      "text/html": [
       "<div>\n",
       "<style scoped>\n",
       "    .dataframe tbody tr th:only-of-type {\n",
       "        vertical-align: middle;\n",
       "    }\n",
       "\n",
       "    .dataframe tbody tr th {\n",
       "        vertical-align: top;\n",
       "    }\n",
       "\n",
       "    .dataframe thead th {\n",
       "        text-align: right;\n",
       "    }\n",
       "</style>\n",
       "<table border=\"1\" class=\"dataframe\">\n",
       "  <thead>\n",
       "    <tr style=\"text-align: right;\">\n",
       "      <th></th>\n",
       "      <th>issue_date</th>\n",
       "      <th>listing_date</th>\n",
       "      <th>condition</th>\n",
       "      <th>color_type</th>\n",
       "      <th>length(m)</th>\n",
       "      <th>height(cm)</th>\n",
       "      <th>X1</th>\n",
       "      <th>X2</th>\n",
       "    </tr>\n",
       "  </thead>\n",
       "  <tbody>\n",
       "    <tr>\n",
       "      <th>0</th>\n",
       "      <td>2005-08-17 00:00:00</td>\n",
       "      <td>2017-09-07 15:35:00</td>\n",
       "      <td>0.0</td>\n",
       "      <td>Black</td>\n",
       "      <td>0.87</td>\n",
       "      <td>42.73</td>\n",
       "      <td>0</td>\n",
       "      <td>7</td>\n",
       "    </tr>\n",
       "    <tr>\n",
       "      <th>1</th>\n",
       "      <td>2018-11-15 00:00:00</td>\n",
       "      <td>2019-05-08 17:24:00</td>\n",
       "      <td>1.0</td>\n",
       "      <td>Orange Tabby</td>\n",
       "      <td>0.06</td>\n",
       "      <td>6.71</td>\n",
       "      <td>0</td>\n",
       "      <td>1</td>\n",
       "    </tr>\n",
       "    <tr>\n",
       "      <th>2</th>\n",
       "      <td>2012-10-11 00:00:00</td>\n",
       "      <td>2018-04-02 16:51:00</td>\n",
       "      <td>1.0</td>\n",
       "      <td>Black</td>\n",
       "      <td>0.24</td>\n",
       "      <td>41.21</td>\n",
       "      <td>0</td>\n",
       "      <td>7</td>\n",
       "    </tr>\n",
       "    <tr>\n",
       "      <th>3</th>\n",
       "      <td>2015-02-13 00:00:00</td>\n",
       "      <td>2018-04-06 07:25:00</td>\n",
       "      <td>1.0</td>\n",
       "      <td>Black</td>\n",
       "      <td>0.29</td>\n",
       "      <td>8.46</td>\n",
       "      <td>7</td>\n",
       "      <td>1</td>\n",
       "    </tr>\n",
       "    <tr>\n",
       "      <th>4</th>\n",
       "      <td>2017-01-18 00:00:00</td>\n",
       "      <td>2018-04-26 13:42:00</td>\n",
       "      <td>1.0</td>\n",
       "      <td>Brown</td>\n",
       "      <td>0.71</td>\n",
       "      <td>30.92</td>\n",
       "      <td>0</td>\n",
       "      <td>7</td>\n",
       "    </tr>\n",
       "  </tbody>\n",
       "</table>\n",
       "</div>"
      ],
      "text/plain": [
       "            issue_date         listing_date  condition    color_type  \\\n",
       "0  2005-08-17 00:00:00  2017-09-07 15:35:00        0.0         Black   \n",
       "1  2018-11-15 00:00:00  2019-05-08 17:24:00        1.0  Orange Tabby   \n",
       "2  2012-10-11 00:00:00  2018-04-02 16:51:00        1.0         Black   \n",
       "3  2015-02-13 00:00:00  2018-04-06 07:25:00        1.0         Black   \n",
       "4  2017-01-18 00:00:00  2018-04-26 13:42:00        1.0         Brown   \n",
       "\n",
       "   length(m)  height(cm)  X1  X2  \n",
       "0       0.87       42.73   0   7  \n",
       "1       0.06        6.71   0   1  \n",
       "2       0.24       41.21   0   7  \n",
       "3       0.29        8.46   7   1  \n",
       "4       0.71       30.92   0   7  "
      ]
     },
     "execution_count": 10,
     "metadata": {},
     "output_type": "execute_result"
    }
   ],
   "source": [
    "pet_test.head()"
   ]
  },
  {
   "cell_type": "code",
   "execution_count": 11,
   "metadata": {},
   "outputs": [
    {
     "data": {
      "text/html": [
       "<div>\n",
       "<style scoped>\n",
       "    .dataframe tbody tr th:only-of-type {\n",
       "        vertical-align: middle;\n",
       "    }\n",
       "\n",
       "    .dataframe tbody tr th {\n",
       "        vertical-align: top;\n",
       "    }\n",
       "\n",
       "    .dataframe thead th {\n",
       "        text-align: right;\n",
       "    }\n",
       "</style>\n",
       "<table border=\"1\" class=\"dataframe\">\n",
       "  <thead>\n",
       "    <tr style=\"text-align: right;\">\n",
       "      <th></th>\n",
       "      <th>issue_date</th>\n",
       "      <th>listing_date</th>\n",
       "      <th>condition</th>\n",
       "      <th>color_type</th>\n",
       "      <th>length(m)</th>\n",
       "      <th>height(cm)</th>\n",
       "      <th>X1</th>\n",
       "      <th>X2</th>\n",
       "      <th>breed_category</th>\n",
       "      <th>pet_category</th>\n",
       "      <th>DAY_issue</th>\n",
       "      <th>MONTH_issue</th>\n",
       "      <th>YEAR_issue</th>\n",
       "    </tr>\n",
       "  </thead>\n",
       "  <tbody>\n",
       "    <tr>\n",
       "      <th>0</th>\n",
       "      <td>2016-07-10 00:00:00</td>\n",
       "      <td>2016-09-21 16:25:00</td>\n",
       "      <td>2.0</td>\n",
       "      <td>Brown Tabby</td>\n",
       "      <td>0.80</td>\n",
       "      <td>7.78</td>\n",
       "      <td>13</td>\n",
       "      <td>9</td>\n",
       "      <td>0.0</td>\n",
       "      <td>1</td>\n",
       "      <td>10</td>\n",
       "      <td>7</td>\n",
       "      <td>2016</td>\n",
       "    </tr>\n",
       "    <tr>\n",
       "      <th>1</th>\n",
       "      <td>2013-11-21 00:00:00</td>\n",
       "      <td>2018-12-27 17:47:00</td>\n",
       "      <td>1.0</td>\n",
       "      <td>White</td>\n",
       "      <td>0.72</td>\n",
       "      <td>14.19</td>\n",
       "      <td>13</td>\n",
       "      <td>9</td>\n",
       "      <td>0.0</td>\n",
       "      <td>2</td>\n",
       "      <td>21</td>\n",
       "      <td>11</td>\n",
       "      <td>2013</td>\n",
       "    </tr>\n",
       "    <tr>\n",
       "      <th>2</th>\n",
       "      <td>2014-09-28 00:00:00</td>\n",
       "      <td>2016-10-19 08:24:00</td>\n",
       "      <td>NaN</td>\n",
       "      <td>Brown</td>\n",
       "      <td>0.15</td>\n",
       "      <td>40.90</td>\n",
       "      <td>15</td>\n",
       "      <td>4</td>\n",
       "      <td>2.0</td>\n",
       "      <td>4</td>\n",
       "      <td>28</td>\n",
       "      <td>9</td>\n",
       "      <td>2014</td>\n",
       "    </tr>\n",
       "    <tr>\n",
       "      <th>3</th>\n",
       "      <td>2016-12-31 00:00:00</td>\n",
       "      <td>2019-01-25 18:30:00</td>\n",
       "      <td>1.0</td>\n",
       "      <td>White</td>\n",
       "      <td>0.62</td>\n",
       "      <td>17.82</td>\n",
       "      <td>0</td>\n",
       "      <td>1</td>\n",
       "      <td>0.0</td>\n",
       "      <td>2</td>\n",
       "      <td>31</td>\n",
       "      <td>12</td>\n",
       "      <td>2016</td>\n",
       "    </tr>\n",
       "    <tr>\n",
       "      <th>4</th>\n",
       "      <td>2017-09-28 00:00:00</td>\n",
       "      <td>2017-11-19 09:38:00</td>\n",
       "      <td>2.0</td>\n",
       "      <td>Black</td>\n",
       "      <td>0.50</td>\n",
       "      <td>11.06</td>\n",
       "      <td>18</td>\n",
       "      <td>4</td>\n",
       "      <td>0.0</td>\n",
       "      <td>1</td>\n",
       "      <td>28</td>\n",
       "      <td>9</td>\n",
       "      <td>2017</td>\n",
       "    </tr>\n",
       "  </tbody>\n",
       "</table>\n",
       "</div>"
      ],
      "text/plain": [
       "            issue_date         listing_date  condition   color_type  \\\n",
       "0  2016-07-10 00:00:00  2016-09-21 16:25:00        2.0  Brown Tabby   \n",
       "1  2013-11-21 00:00:00  2018-12-27 17:47:00        1.0        White   \n",
       "2  2014-09-28 00:00:00  2016-10-19 08:24:00        NaN        Brown   \n",
       "3  2016-12-31 00:00:00  2019-01-25 18:30:00        1.0        White   \n",
       "4  2017-09-28 00:00:00  2017-11-19 09:38:00        2.0        Black   \n",
       "\n",
       "   length(m)  height(cm)  X1  X2  breed_category  pet_category  DAY_issue  \\\n",
       "0       0.80        7.78  13   9             0.0             1         10   \n",
       "1       0.72       14.19  13   9             0.0             2         21   \n",
       "2       0.15       40.90  15   4             2.0             4         28   \n",
       "3       0.62       17.82   0   1             0.0             2         31   \n",
       "4       0.50       11.06  18   4             0.0             1         28   \n",
       "\n",
       "   MONTH_issue  YEAR_issue  \n",
       "0            7        2016  \n",
       "1           11        2013  \n",
       "2            9        2014  \n",
       "3           12        2016  \n",
       "4            9        2017  "
      ]
     },
     "execution_count": 11,
     "metadata": {},
     "output_type": "execute_result"
    }
   ],
   "source": [
    "pet_train.head()"
   ]
  },
  {
   "cell_type": "code",
   "execution_count": 9,
   "metadata": {},
   "outputs": [],
   "source": [
    "pet_train=pd.concat([pet_train,extract_date(pet_train)],axis=1)\n",
    "pet_test=pd.concat([pet_test,extract_date(pet_test)],axis=1)"
   ]
  },
  {
   "cell_type": "code",
   "execution_count": 12,
   "metadata": {},
   "outputs": [],
   "source": [
    "# Handning Cyclic data - Date"
   ]
  },
  {
   "cell_type": "code",
   "execution_count": 10,
   "metadata": {},
   "outputs": [],
   "source": [
    "def code_cyclic_features(data,columns,drop_cols=True):\n",
    "    for col in columns:\n",
    "        max_val=max(data[col])\n",
    "\n",
    "        data[col+'_sin']=np.sin(2*np.pi*data[col]/max_val)\n",
    "        data[col+'_cos']=np.cos(2*np.pi*data[col]/max_val)\n",
    "\n",
    "        if drop_cols:\n",
    "            del data[col]\n",
    "    return data  "
   ]
  },
  {
   "cell_type": "code",
   "execution_count": 11,
   "metadata": {},
   "outputs": [
    {
     "data": {
      "text/html": [
       "<div>\n",
       "<style scoped>\n",
       "    .dataframe tbody tr th:only-of-type {\n",
       "        vertical-align: middle;\n",
       "    }\n",
       "\n",
       "    .dataframe tbody tr th {\n",
       "        vertical-align: top;\n",
       "    }\n",
       "\n",
       "    .dataframe thead th {\n",
       "        text-align: right;\n",
       "    }\n",
       "</style>\n",
       "<table border=\"1\" class=\"dataframe\">\n",
       "  <thead>\n",
       "    <tr style=\"text-align: right;\">\n",
       "      <th></th>\n",
       "      <th>issue_date</th>\n",
       "      <th>listing_date</th>\n",
       "      <th>condition</th>\n",
       "      <th>color_type</th>\n",
       "      <th>length(m)</th>\n",
       "      <th>height(cm)</th>\n",
       "      <th>X1</th>\n",
       "      <th>X2</th>\n",
       "      <th>DAY_issue_sin</th>\n",
       "      <th>DAY_issue_cos</th>\n",
       "      <th>MONTH_issue_sin</th>\n",
       "      <th>MONTH_issue_cos</th>\n",
       "      <th>YEAR_issue_sin</th>\n",
       "      <th>YEAR_issue_cos</th>\n",
       "    </tr>\n",
       "  </thead>\n",
       "  <tbody>\n",
       "    <tr>\n",
       "      <th>0</th>\n",
       "      <td>2005-08-17 00:00:00</td>\n",
       "      <td>2017-09-07 15:35:00</td>\n",
       "      <td>0.0</td>\n",
       "      <td>Black</td>\n",
       "      <td>0.87</td>\n",
       "      <td>42.73</td>\n",
       "      <td>0</td>\n",
       "      <td>7</td>\n",
       "      <td>-0.299363</td>\n",
       "      <td>-0.954139</td>\n",
       "      <td>-8.660254e-01</td>\n",
       "      <td>-0.500000</td>\n",
       "      <td>-0.043555</td>\n",
       "      <td>0.999051</td>\n",
       "    </tr>\n",
       "    <tr>\n",
       "      <th>1</th>\n",
       "      <td>2018-11-15 00:00:00</td>\n",
       "      <td>2019-05-08 17:24:00</td>\n",
       "      <td>1.0</td>\n",
       "      <td>Orange Tabby</td>\n",
       "      <td>0.06</td>\n",
       "      <td>6.71</td>\n",
       "      <td>0</td>\n",
       "      <td>1</td>\n",
       "      <td>0.101168</td>\n",
       "      <td>-0.994869</td>\n",
       "      <td>-5.000000e-01</td>\n",
       "      <td>0.866025</td>\n",
       "      <td>-0.003112</td>\n",
       "      <td>0.999995</td>\n",
       "    </tr>\n",
       "    <tr>\n",
       "      <th>2</th>\n",
       "      <td>2012-10-11 00:00:00</td>\n",
       "      <td>2018-04-02 16:51:00</td>\n",
       "      <td>1.0</td>\n",
       "      <td>Black</td>\n",
       "      <td>0.24</td>\n",
       "      <td>41.21</td>\n",
       "      <td>0</td>\n",
       "      <td>7</td>\n",
       "      <td>0.790776</td>\n",
       "      <td>-0.612106</td>\n",
       "      <td>-8.660254e-01</td>\n",
       "      <td>0.500000</td>\n",
       "      <td>-0.021782</td>\n",
       "      <td>0.999763</td>\n",
       "    </tr>\n",
       "    <tr>\n",
       "      <th>3</th>\n",
       "      <td>2015-02-13 00:00:00</td>\n",
       "      <td>2018-04-06 07:25:00</td>\n",
       "      <td>1.0</td>\n",
       "      <td>Black</td>\n",
       "      <td>0.29</td>\n",
       "      <td>8.46</td>\n",
       "      <td>7</td>\n",
       "      <td>1</td>\n",
       "      <td>0.485302</td>\n",
       "      <td>-0.874347</td>\n",
       "      <td>8.660254e-01</td>\n",
       "      <td>0.500000</td>\n",
       "      <td>-0.012448</td>\n",
       "      <td>0.999923</td>\n",
       "    </tr>\n",
       "    <tr>\n",
       "      <th>4</th>\n",
       "      <td>2017-01-18 00:00:00</td>\n",
       "      <td>2018-04-26 13:42:00</td>\n",
       "      <td>1.0</td>\n",
       "      <td>Brown</td>\n",
       "      <td>0.71</td>\n",
       "      <td>30.92</td>\n",
       "      <td>0</td>\n",
       "      <td>7</td>\n",
       "      <td>-0.485302</td>\n",
       "      <td>-0.874347</td>\n",
       "      <td>5.000000e-01</td>\n",
       "      <td>0.866025</td>\n",
       "      <td>-0.006224</td>\n",
       "      <td>0.999981</td>\n",
       "    </tr>\n",
       "    <tr>\n",
       "      <th>...</th>\n",
       "      <td>...</td>\n",
       "      <td>...</td>\n",
       "      <td>...</td>\n",
       "      <td>...</td>\n",
       "      <td>...</td>\n",
       "      <td>...</td>\n",
       "      <td>...</td>\n",
       "      <td>...</td>\n",
       "      <td>...</td>\n",
       "      <td>...</td>\n",
       "      <td>...</td>\n",
       "      <td>...</td>\n",
       "      <td>...</td>\n",
       "      <td>...</td>\n",
       "    </tr>\n",
       "    <tr>\n",
       "      <th>8067</th>\n",
       "      <td>2016-02-10 00:00:00</td>\n",
       "      <td>2017-03-10 14:56:00</td>\n",
       "      <td>2.0</td>\n",
       "      <td>Brown</td>\n",
       "      <td>0.82</td>\n",
       "      <td>36.08</td>\n",
       "      <td>13</td>\n",
       "      <td>9</td>\n",
       "      <td>0.897805</td>\n",
       "      <td>-0.440394</td>\n",
       "      <td>8.660254e-01</td>\n",
       "      <td>0.500000</td>\n",
       "      <td>-0.009336</td>\n",
       "      <td>0.999956</td>\n",
       "    </tr>\n",
       "    <tr>\n",
       "      <th>8068</th>\n",
       "      <td>2015-12-07 00:00:00</td>\n",
       "      <td>2018-02-12 00:00:00</td>\n",
       "      <td>0.0</td>\n",
       "      <td>Tan</td>\n",
       "      <td>0.49</td>\n",
       "      <td>27.54</td>\n",
       "      <td>13</td>\n",
       "      <td>9</td>\n",
       "      <td>0.988468</td>\n",
       "      <td>0.151428</td>\n",
       "      <td>-2.449294e-16</td>\n",
       "      <td>1.000000</td>\n",
       "      <td>-0.012448</td>\n",
       "      <td>0.999923</td>\n",
       "    </tr>\n",
       "    <tr>\n",
       "      <th>8069</th>\n",
       "      <td>2015-12-08 00:00:00</td>\n",
       "      <td>2017-01-04 17:19:00</td>\n",
       "      <td>0.0</td>\n",
       "      <td>Black</td>\n",
       "      <td>0.98</td>\n",
       "      <td>37.19</td>\n",
       "      <td>0</td>\n",
       "      <td>7</td>\n",
       "      <td>0.998717</td>\n",
       "      <td>-0.050649</td>\n",
       "      <td>-2.449294e-16</td>\n",
       "      <td>1.000000</td>\n",
       "      <td>-0.012448</td>\n",
       "      <td>0.999923</td>\n",
       "    </tr>\n",
       "    <tr>\n",
       "      <th>8070</th>\n",
       "      <td>2016-06-28 00:00:00</td>\n",
       "      <td>2017-07-20 18:19:00</td>\n",
       "      <td>NaN</td>\n",
       "      <td>Black</td>\n",
       "      <td>0.79</td>\n",
       "      <td>23.83</td>\n",
       "      <td>0</td>\n",
       "      <td>2</td>\n",
       "      <td>-0.571268</td>\n",
       "      <td>0.820763</td>\n",
       "      <td>1.224647e-16</td>\n",
       "      <td>-1.000000</td>\n",
       "      <td>-0.009336</td>\n",
       "      <td>0.999956</td>\n",
       "    </tr>\n",
       "    <tr>\n",
       "      <th>8071</th>\n",
       "      <td>2016-02-02 00:00:00</td>\n",
       "      <td>2017-02-28 16:47:00</td>\n",
       "      <td>0.0</td>\n",
       "      <td>Black</td>\n",
       "      <td>0.64</td>\n",
       "      <td>24.51</td>\n",
       "      <td>0</td>\n",
       "      <td>1</td>\n",
       "      <td>0.394356</td>\n",
       "      <td>0.918958</td>\n",
       "      <td>8.660254e-01</td>\n",
       "      <td>0.500000</td>\n",
       "      <td>-0.009336</td>\n",
       "      <td>0.999956</td>\n",
       "    </tr>\n",
       "  </tbody>\n",
       "</table>\n",
       "<p>8072 rows × 14 columns</p>\n",
       "</div>"
      ],
      "text/plain": [
       "               issue_date         listing_date  condition    color_type  \\\n",
       "0     2005-08-17 00:00:00  2017-09-07 15:35:00        0.0         Black   \n",
       "1     2018-11-15 00:00:00  2019-05-08 17:24:00        1.0  Orange Tabby   \n",
       "2     2012-10-11 00:00:00  2018-04-02 16:51:00        1.0         Black   \n",
       "3     2015-02-13 00:00:00  2018-04-06 07:25:00        1.0         Black   \n",
       "4     2017-01-18 00:00:00  2018-04-26 13:42:00        1.0         Brown   \n",
       "...                   ...                  ...        ...           ...   \n",
       "8067  2016-02-10 00:00:00  2017-03-10 14:56:00        2.0         Brown   \n",
       "8068  2015-12-07 00:00:00  2018-02-12 00:00:00        0.0           Tan   \n",
       "8069  2015-12-08 00:00:00  2017-01-04 17:19:00        0.0         Black   \n",
       "8070  2016-06-28 00:00:00  2017-07-20 18:19:00        NaN         Black   \n",
       "8071  2016-02-02 00:00:00  2017-02-28 16:47:00        0.0         Black   \n",
       "\n",
       "      length(m)  height(cm)  X1  X2  DAY_issue_sin  DAY_issue_cos  \\\n",
       "0          0.87       42.73   0   7      -0.299363      -0.954139   \n",
       "1          0.06        6.71   0   1       0.101168      -0.994869   \n",
       "2          0.24       41.21   0   7       0.790776      -0.612106   \n",
       "3          0.29        8.46   7   1       0.485302      -0.874347   \n",
       "4          0.71       30.92   0   7      -0.485302      -0.874347   \n",
       "...         ...         ...  ..  ..            ...            ...   \n",
       "8067       0.82       36.08  13   9       0.897805      -0.440394   \n",
       "8068       0.49       27.54  13   9       0.988468       0.151428   \n",
       "8069       0.98       37.19   0   7       0.998717      -0.050649   \n",
       "8070       0.79       23.83   0   2      -0.571268       0.820763   \n",
       "8071       0.64       24.51   0   1       0.394356       0.918958   \n",
       "\n",
       "      MONTH_issue_sin  MONTH_issue_cos  YEAR_issue_sin  YEAR_issue_cos  \n",
       "0       -8.660254e-01        -0.500000       -0.043555        0.999051  \n",
       "1       -5.000000e-01         0.866025       -0.003112        0.999995  \n",
       "2       -8.660254e-01         0.500000       -0.021782        0.999763  \n",
       "3        8.660254e-01         0.500000       -0.012448        0.999923  \n",
       "4        5.000000e-01         0.866025       -0.006224        0.999981  \n",
       "...               ...              ...             ...             ...  \n",
       "8067     8.660254e-01         0.500000       -0.009336        0.999956  \n",
       "8068    -2.449294e-16         1.000000       -0.012448        0.999923  \n",
       "8069    -2.449294e-16         1.000000       -0.012448        0.999923  \n",
       "8070     1.224647e-16        -1.000000       -0.009336        0.999956  \n",
       "8071     8.660254e-01         0.500000       -0.009336        0.999956  \n",
       "\n",
       "[8072 rows x 14 columns]"
      ]
     },
     "execution_count": 11,
     "metadata": {},
     "output_type": "execute_result"
    }
   ],
   "source": [
    "code_cyclic_features(pet_train,['DAY_issue','MONTH_issue','YEAR_issue'])\n",
    "code_cyclic_features(pet_test,['DAY_issue','MONTH_issue','YEAR_issue'])"
   ]
  },
  {
   "cell_type": "code",
   "execution_count": 16,
   "metadata": {
    "scrolled": true
   },
   "outputs": [
    {
     "data": {
      "text/html": [
       "<div>\n",
       "<style scoped>\n",
       "    .dataframe tbody tr th:only-of-type {\n",
       "        vertical-align: middle;\n",
       "    }\n",
       "\n",
       "    .dataframe tbody tr th {\n",
       "        vertical-align: top;\n",
       "    }\n",
       "\n",
       "    .dataframe thead th {\n",
       "        text-align: right;\n",
       "    }\n",
       "</style>\n",
       "<table border=\"1\" class=\"dataframe\">\n",
       "  <thead>\n",
       "    <tr style=\"text-align: right;\">\n",
       "      <th></th>\n",
       "      <th>issue_date</th>\n",
       "      <th>listing_date</th>\n",
       "      <th>condition</th>\n",
       "      <th>color_type</th>\n",
       "      <th>length(m)</th>\n",
       "      <th>height(cm)</th>\n",
       "      <th>X1</th>\n",
       "      <th>X2</th>\n",
       "      <th>DAY_issue_sin</th>\n",
       "      <th>DAY_issue_cos</th>\n",
       "      <th>MONTH_issue_sin</th>\n",
       "      <th>MONTH_issue_cos</th>\n",
       "      <th>YEAR_issue_sin</th>\n",
       "      <th>YEAR_issue_cos</th>\n",
       "    </tr>\n",
       "  </thead>\n",
       "  <tbody>\n",
       "    <tr>\n",
       "      <th>0</th>\n",
       "      <td>2005-08-17 00:00:00</td>\n",
       "      <td>2017-09-07 15:35:00</td>\n",
       "      <td>0.0</td>\n",
       "      <td>Black</td>\n",
       "      <td>0.87</td>\n",
       "      <td>42.73</td>\n",
       "      <td>0</td>\n",
       "      <td>7</td>\n",
       "      <td>-0.299363</td>\n",
       "      <td>-0.954139</td>\n",
       "      <td>-8.660254e-01</td>\n",
       "      <td>-0.500000</td>\n",
       "      <td>-0.043555</td>\n",
       "      <td>0.999051</td>\n",
       "    </tr>\n",
       "    <tr>\n",
       "      <th>1</th>\n",
       "      <td>2018-11-15 00:00:00</td>\n",
       "      <td>2019-05-08 17:24:00</td>\n",
       "      <td>1.0</td>\n",
       "      <td>Orange Tabby</td>\n",
       "      <td>0.06</td>\n",
       "      <td>6.71</td>\n",
       "      <td>0</td>\n",
       "      <td>1</td>\n",
       "      <td>0.101168</td>\n",
       "      <td>-0.994869</td>\n",
       "      <td>-5.000000e-01</td>\n",
       "      <td>0.866025</td>\n",
       "      <td>-0.003112</td>\n",
       "      <td>0.999995</td>\n",
       "    </tr>\n",
       "    <tr>\n",
       "      <th>2</th>\n",
       "      <td>2012-10-11 00:00:00</td>\n",
       "      <td>2018-04-02 16:51:00</td>\n",
       "      <td>1.0</td>\n",
       "      <td>Black</td>\n",
       "      <td>0.24</td>\n",
       "      <td>41.21</td>\n",
       "      <td>0</td>\n",
       "      <td>7</td>\n",
       "      <td>0.790776</td>\n",
       "      <td>-0.612106</td>\n",
       "      <td>-8.660254e-01</td>\n",
       "      <td>0.500000</td>\n",
       "      <td>-0.021782</td>\n",
       "      <td>0.999763</td>\n",
       "    </tr>\n",
       "    <tr>\n",
       "      <th>3</th>\n",
       "      <td>2015-02-13 00:00:00</td>\n",
       "      <td>2018-04-06 07:25:00</td>\n",
       "      <td>1.0</td>\n",
       "      <td>Black</td>\n",
       "      <td>0.29</td>\n",
       "      <td>8.46</td>\n",
       "      <td>7</td>\n",
       "      <td>1</td>\n",
       "      <td>0.485302</td>\n",
       "      <td>-0.874347</td>\n",
       "      <td>8.660254e-01</td>\n",
       "      <td>0.500000</td>\n",
       "      <td>-0.012448</td>\n",
       "      <td>0.999923</td>\n",
       "    </tr>\n",
       "    <tr>\n",
       "      <th>4</th>\n",
       "      <td>2017-01-18 00:00:00</td>\n",
       "      <td>2018-04-26 13:42:00</td>\n",
       "      <td>1.0</td>\n",
       "      <td>Brown</td>\n",
       "      <td>0.71</td>\n",
       "      <td>30.92</td>\n",
       "      <td>0</td>\n",
       "      <td>7</td>\n",
       "      <td>-0.485302</td>\n",
       "      <td>-0.874347</td>\n",
       "      <td>5.000000e-01</td>\n",
       "      <td>0.866025</td>\n",
       "      <td>-0.006224</td>\n",
       "      <td>0.999981</td>\n",
       "    </tr>\n",
       "    <tr>\n",
       "      <th>...</th>\n",
       "      <td>...</td>\n",
       "      <td>...</td>\n",
       "      <td>...</td>\n",
       "      <td>...</td>\n",
       "      <td>...</td>\n",
       "      <td>...</td>\n",
       "      <td>...</td>\n",
       "      <td>...</td>\n",
       "      <td>...</td>\n",
       "      <td>...</td>\n",
       "      <td>...</td>\n",
       "      <td>...</td>\n",
       "      <td>...</td>\n",
       "      <td>...</td>\n",
       "    </tr>\n",
       "    <tr>\n",
       "      <th>8067</th>\n",
       "      <td>2016-02-10 00:00:00</td>\n",
       "      <td>2017-03-10 14:56:00</td>\n",
       "      <td>2.0</td>\n",
       "      <td>Brown</td>\n",
       "      <td>0.82</td>\n",
       "      <td>36.08</td>\n",
       "      <td>13</td>\n",
       "      <td>9</td>\n",
       "      <td>0.897805</td>\n",
       "      <td>-0.440394</td>\n",
       "      <td>8.660254e-01</td>\n",
       "      <td>0.500000</td>\n",
       "      <td>-0.009336</td>\n",
       "      <td>0.999956</td>\n",
       "    </tr>\n",
       "    <tr>\n",
       "      <th>8068</th>\n",
       "      <td>2015-12-07 00:00:00</td>\n",
       "      <td>2018-02-12 00:00:00</td>\n",
       "      <td>0.0</td>\n",
       "      <td>Tan</td>\n",
       "      <td>0.49</td>\n",
       "      <td>27.54</td>\n",
       "      <td>13</td>\n",
       "      <td>9</td>\n",
       "      <td>0.988468</td>\n",
       "      <td>0.151428</td>\n",
       "      <td>-2.449294e-16</td>\n",
       "      <td>1.000000</td>\n",
       "      <td>-0.012448</td>\n",
       "      <td>0.999923</td>\n",
       "    </tr>\n",
       "    <tr>\n",
       "      <th>8069</th>\n",
       "      <td>2015-12-08 00:00:00</td>\n",
       "      <td>2017-01-04 17:19:00</td>\n",
       "      <td>0.0</td>\n",
       "      <td>Black</td>\n",
       "      <td>0.98</td>\n",
       "      <td>37.19</td>\n",
       "      <td>0</td>\n",
       "      <td>7</td>\n",
       "      <td>0.998717</td>\n",
       "      <td>-0.050649</td>\n",
       "      <td>-2.449294e-16</td>\n",
       "      <td>1.000000</td>\n",
       "      <td>-0.012448</td>\n",
       "      <td>0.999923</td>\n",
       "    </tr>\n",
       "    <tr>\n",
       "      <th>8070</th>\n",
       "      <td>2016-06-28 00:00:00</td>\n",
       "      <td>2017-07-20 18:19:00</td>\n",
       "      <td>NaN</td>\n",
       "      <td>Black</td>\n",
       "      <td>0.79</td>\n",
       "      <td>23.83</td>\n",
       "      <td>0</td>\n",
       "      <td>2</td>\n",
       "      <td>-0.571268</td>\n",
       "      <td>0.820763</td>\n",
       "      <td>1.224647e-16</td>\n",
       "      <td>-1.000000</td>\n",
       "      <td>-0.009336</td>\n",
       "      <td>0.999956</td>\n",
       "    </tr>\n",
       "    <tr>\n",
       "      <th>8071</th>\n",
       "      <td>2016-02-02 00:00:00</td>\n",
       "      <td>2017-02-28 16:47:00</td>\n",
       "      <td>0.0</td>\n",
       "      <td>Black</td>\n",
       "      <td>0.64</td>\n",
       "      <td>24.51</td>\n",
       "      <td>0</td>\n",
       "      <td>1</td>\n",
       "      <td>0.394356</td>\n",
       "      <td>0.918958</td>\n",
       "      <td>8.660254e-01</td>\n",
       "      <td>0.500000</td>\n",
       "      <td>-0.009336</td>\n",
       "      <td>0.999956</td>\n",
       "    </tr>\n",
       "  </tbody>\n",
       "</table>\n",
       "<p>8072 rows × 14 columns</p>\n",
       "</div>"
      ],
      "text/plain": [
       "               issue_date         listing_date  condition    color_type  \\\n",
       "0     2005-08-17 00:00:00  2017-09-07 15:35:00        0.0         Black   \n",
       "1     2018-11-15 00:00:00  2019-05-08 17:24:00        1.0  Orange Tabby   \n",
       "2     2012-10-11 00:00:00  2018-04-02 16:51:00        1.0         Black   \n",
       "3     2015-02-13 00:00:00  2018-04-06 07:25:00        1.0         Black   \n",
       "4     2017-01-18 00:00:00  2018-04-26 13:42:00        1.0         Brown   \n",
       "...                   ...                  ...        ...           ...   \n",
       "8067  2016-02-10 00:00:00  2017-03-10 14:56:00        2.0         Brown   \n",
       "8068  2015-12-07 00:00:00  2018-02-12 00:00:00        0.0           Tan   \n",
       "8069  2015-12-08 00:00:00  2017-01-04 17:19:00        0.0         Black   \n",
       "8070  2016-06-28 00:00:00  2017-07-20 18:19:00        NaN         Black   \n",
       "8071  2016-02-02 00:00:00  2017-02-28 16:47:00        0.0         Black   \n",
       "\n",
       "      length(m)  height(cm)  X1  X2  DAY_issue_sin  DAY_issue_cos  \\\n",
       "0          0.87       42.73   0   7      -0.299363      -0.954139   \n",
       "1          0.06        6.71   0   1       0.101168      -0.994869   \n",
       "2          0.24       41.21   0   7       0.790776      -0.612106   \n",
       "3          0.29        8.46   7   1       0.485302      -0.874347   \n",
       "4          0.71       30.92   0   7      -0.485302      -0.874347   \n",
       "...         ...         ...  ..  ..            ...            ...   \n",
       "8067       0.82       36.08  13   9       0.897805      -0.440394   \n",
       "8068       0.49       27.54  13   9       0.988468       0.151428   \n",
       "8069       0.98       37.19   0   7       0.998717      -0.050649   \n",
       "8070       0.79       23.83   0   2      -0.571268       0.820763   \n",
       "8071       0.64       24.51   0   1       0.394356       0.918958   \n",
       "\n",
       "      MONTH_issue_sin  MONTH_issue_cos  YEAR_issue_sin  YEAR_issue_cos  \n",
       "0       -8.660254e-01        -0.500000       -0.043555        0.999051  \n",
       "1       -5.000000e-01         0.866025       -0.003112        0.999995  \n",
       "2       -8.660254e-01         0.500000       -0.021782        0.999763  \n",
       "3        8.660254e-01         0.500000       -0.012448        0.999923  \n",
       "4        5.000000e-01         0.866025       -0.006224        0.999981  \n",
       "...               ...              ...             ...             ...  \n",
       "8067     8.660254e-01         0.500000       -0.009336        0.999956  \n",
       "8068    -2.449294e-16         1.000000       -0.012448        0.999923  \n",
       "8069    -2.449294e-16         1.000000       -0.012448        0.999923  \n",
       "8070     1.224647e-16        -1.000000       -0.009336        0.999956  \n",
       "8071     8.660254e-01         0.500000       -0.009336        0.999956  \n",
       "\n",
       "[8072 rows x 14 columns]"
      ]
     },
     "execution_count": 16,
     "metadata": {},
     "output_type": "execute_result"
    }
   ],
   "source": []
  },
  {
   "cell_type": "code",
   "execution_count": 12,
   "metadata": {},
   "outputs": [],
   "source": [
    "def extract_date(data):\n",
    "    date = data['listing_date']\n",
    "    d=[]\n",
    "    m=[]\n",
    "    y=[]\n",
    "    for day in date:\n",
    "        dt =pd.to_datetime(datetime.datetime.strptime(day, \"%Y-%m-%d  %H:%M:%S\"))\n",
    "        d.append(dt.day)\n",
    "        m.append(dt.month)\n",
    "        y.append(dt.year)\n",
    "    new_date=pd.DataFrame(np.column_stack([d, m, y]),columns=['DAY_listing','MONTH_listing','YEAR_listing'])\n",
    "    return new_date\n",
    "    "
   ]
  },
  {
   "cell_type": "code",
   "execution_count": 13,
   "metadata": {},
   "outputs": [],
   "source": [
    "pet_train=pd.concat([pet_train,extract_date(pet_train)],axis=1)\n",
    "pet_test=pd.concat([pet_test,extract_date(pet_test)],axis=1)"
   ]
  },
  {
   "cell_type": "code",
   "execution_count": 21,
   "metadata": {
    "scrolled": true
   },
   "outputs": [
    {
     "data": {
      "text/html": [
       "<div>\n",
       "<style scoped>\n",
       "    .dataframe tbody tr th:only-of-type {\n",
       "        vertical-align: middle;\n",
       "    }\n",
       "\n",
       "    .dataframe tbody tr th {\n",
       "        vertical-align: top;\n",
       "    }\n",
       "\n",
       "    .dataframe thead th {\n",
       "        text-align: right;\n",
       "    }\n",
       "</style>\n",
       "<table border=\"1\" class=\"dataframe\">\n",
       "  <thead>\n",
       "    <tr style=\"text-align: right;\">\n",
       "      <th></th>\n",
       "      <th>issue_date</th>\n",
       "      <th>listing_date</th>\n",
       "      <th>condition</th>\n",
       "      <th>color_type</th>\n",
       "      <th>length(m)</th>\n",
       "      <th>height(cm)</th>\n",
       "      <th>X1</th>\n",
       "      <th>X2</th>\n",
       "      <th>DAY_issue_sin</th>\n",
       "      <th>DAY_issue_cos</th>\n",
       "      <th>MONTH_issue_sin</th>\n",
       "      <th>MONTH_issue_cos</th>\n",
       "      <th>YEAR_issue_sin</th>\n",
       "      <th>YEAR_issue_cos</th>\n",
       "      <th>DAY_listing</th>\n",
       "      <th>MONTH_listing</th>\n",
       "      <th>YEAR_listing</th>\n",
       "    </tr>\n",
       "  </thead>\n",
       "  <tbody>\n",
       "    <tr>\n",
       "      <th>0</th>\n",
       "      <td>2005-08-17 00:00:00</td>\n",
       "      <td>2017-09-07 15:35:00</td>\n",
       "      <td>0.0</td>\n",
       "      <td>Black</td>\n",
       "      <td>0.87</td>\n",
       "      <td>42.73</td>\n",
       "      <td>0</td>\n",
       "      <td>7</td>\n",
       "      <td>-0.299363</td>\n",
       "      <td>-0.954139</td>\n",
       "      <td>-0.866025</td>\n",
       "      <td>-0.500000</td>\n",
       "      <td>-0.043555</td>\n",
       "      <td>0.999051</td>\n",
       "      <td>7</td>\n",
       "      <td>9</td>\n",
       "      <td>2017</td>\n",
       "    </tr>\n",
       "    <tr>\n",
       "      <th>1</th>\n",
       "      <td>2018-11-15 00:00:00</td>\n",
       "      <td>2019-05-08 17:24:00</td>\n",
       "      <td>1.0</td>\n",
       "      <td>Orange Tabby</td>\n",
       "      <td>0.06</td>\n",
       "      <td>6.71</td>\n",
       "      <td>0</td>\n",
       "      <td>1</td>\n",
       "      <td>0.101168</td>\n",
       "      <td>-0.994869</td>\n",
       "      <td>-0.500000</td>\n",
       "      <td>0.866025</td>\n",
       "      <td>-0.003112</td>\n",
       "      <td>0.999995</td>\n",
       "      <td>8</td>\n",
       "      <td>5</td>\n",
       "      <td>2019</td>\n",
       "    </tr>\n",
       "    <tr>\n",
       "      <th>2</th>\n",
       "      <td>2012-10-11 00:00:00</td>\n",
       "      <td>2018-04-02 16:51:00</td>\n",
       "      <td>1.0</td>\n",
       "      <td>Black</td>\n",
       "      <td>0.24</td>\n",
       "      <td>41.21</td>\n",
       "      <td>0</td>\n",
       "      <td>7</td>\n",
       "      <td>0.790776</td>\n",
       "      <td>-0.612106</td>\n",
       "      <td>-0.866025</td>\n",
       "      <td>0.500000</td>\n",
       "      <td>-0.021782</td>\n",
       "      <td>0.999763</td>\n",
       "      <td>2</td>\n",
       "      <td>4</td>\n",
       "      <td>2018</td>\n",
       "    </tr>\n",
       "    <tr>\n",
       "      <th>3</th>\n",
       "      <td>2015-02-13 00:00:00</td>\n",
       "      <td>2018-04-06 07:25:00</td>\n",
       "      <td>1.0</td>\n",
       "      <td>Black</td>\n",
       "      <td>0.29</td>\n",
       "      <td>8.46</td>\n",
       "      <td>7</td>\n",
       "      <td>1</td>\n",
       "      <td>0.485302</td>\n",
       "      <td>-0.874347</td>\n",
       "      <td>0.866025</td>\n",
       "      <td>0.500000</td>\n",
       "      <td>-0.012448</td>\n",
       "      <td>0.999923</td>\n",
       "      <td>6</td>\n",
       "      <td>4</td>\n",
       "      <td>2018</td>\n",
       "    </tr>\n",
       "    <tr>\n",
       "      <th>4</th>\n",
       "      <td>2017-01-18 00:00:00</td>\n",
       "      <td>2018-04-26 13:42:00</td>\n",
       "      <td>1.0</td>\n",
       "      <td>Brown</td>\n",
       "      <td>0.71</td>\n",
       "      <td>30.92</td>\n",
       "      <td>0</td>\n",
       "      <td>7</td>\n",
       "      <td>-0.485302</td>\n",
       "      <td>-0.874347</td>\n",
       "      <td>0.500000</td>\n",
       "      <td>0.866025</td>\n",
       "      <td>-0.006224</td>\n",
       "      <td>0.999981</td>\n",
       "      <td>26</td>\n",
       "      <td>4</td>\n",
       "      <td>2018</td>\n",
       "    </tr>\n",
       "  </tbody>\n",
       "</table>\n",
       "</div>"
      ],
      "text/plain": [
       "            issue_date         listing_date  condition    color_type  \\\n",
       "0  2005-08-17 00:00:00  2017-09-07 15:35:00        0.0         Black   \n",
       "1  2018-11-15 00:00:00  2019-05-08 17:24:00        1.0  Orange Tabby   \n",
       "2  2012-10-11 00:00:00  2018-04-02 16:51:00        1.0         Black   \n",
       "3  2015-02-13 00:00:00  2018-04-06 07:25:00        1.0         Black   \n",
       "4  2017-01-18 00:00:00  2018-04-26 13:42:00        1.0         Brown   \n",
       "\n",
       "   length(m)  height(cm)  X1  X2  DAY_issue_sin  DAY_issue_cos  \\\n",
       "0       0.87       42.73   0   7      -0.299363      -0.954139   \n",
       "1       0.06        6.71   0   1       0.101168      -0.994869   \n",
       "2       0.24       41.21   0   7       0.790776      -0.612106   \n",
       "3       0.29        8.46   7   1       0.485302      -0.874347   \n",
       "4       0.71       30.92   0   7      -0.485302      -0.874347   \n",
       "\n",
       "   MONTH_issue_sin  MONTH_issue_cos  YEAR_issue_sin  YEAR_issue_cos  \\\n",
       "0        -0.866025        -0.500000       -0.043555        0.999051   \n",
       "1        -0.500000         0.866025       -0.003112        0.999995   \n",
       "2        -0.866025         0.500000       -0.021782        0.999763   \n",
       "3         0.866025         0.500000       -0.012448        0.999923   \n",
       "4         0.500000         0.866025       -0.006224        0.999981   \n",
       "\n",
       "   DAY_listing  MONTH_listing  YEAR_listing  \n",
       "0            7              9          2017  \n",
       "1            8              5          2019  \n",
       "2            2              4          2018  \n",
       "3            6              4          2018  \n",
       "4           26              4          2018  "
      ]
     },
     "execution_count": 21,
     "metadata": {},
     "output_type": "execute_result"
    }
   ],
   "source": [
    "pet_test.head(5)"
   ]
  },
  {
   "cell_type": "code",
   "execution_count": 14,
   "metadata": {},
   "outputs": [
    {
     "data": {
      "text/html": [
       "<div>\n",
       "<style scoped>\n",
       "    .dataframe tbody tr th:only-of-type {\n",
       "        vertical-align: middle;\n",
       "    }\n",
       "\n",
       "    .dataframe tbody tr th {\n",
       "        vertical-align: top;\n",
       "    }\n",
       "\n",
       "    .dataframe thead th {\n",
       "        text-align: right;\n",
       "    }\n",
       "</style>\n",
       "<table border=\"1\" class=\"dataframe\">\n",
       "  <thead>\n",
       "    <tr style=\"text-align: right;\">\n",
       "      <th></th>\n",
       "      <th>issue_date</th>\n",
       "      <th>listing_date</th>\n",
       "      <th>condition</th>\n",
       "      <th>color_type</th>\n",
       "      <th>length(m)</th>\n",
       "      <th>height(cm)</th>\n",
       "      <th>X1</th>\n",
       "      <th>X2</th>\n",
       "      <th>DAY_issue_sin</th>\n",
       "      <th>DAY_issue_cos</th>\n",
       "      <th>MONTH_issue_sin</th>\n",
       "      <th>MONTH_issue_cos</th>\n",
       "      <th>YEAR_issue_sin</th>\n",
       "      <th>YEAR_issue_cos</th>\n",
       "      <th>DAY_listing_sin</th>\n",
       "      <th>DAY_listing_cos</th>\n",
       "      <th>MONTH_listing_sin</th>\n",
       "      <th>MONTH_listing_cos</th>\n",
       "      <th>YEAR_listing_sin</th>\n",
       "      <th>YEAR_listing_cos</th>\n",
       "    </tr>\n",
       "  </thead>\n",
       "  <tbody>\n",
       "    <tr>\n",
       "      <th>0</th>\n",
       "      <td>2005-08-17 00:00:00</td>\n",
       "      <td>2017-09-07 15:35:00</td>\n",
       "      <td>0.0</td>\n",
       "      <td>Black</td>\n",
       "      <td>0.87</td>\n",
       "      <td>42.73</td>\n",
       "      <td>0</td>\n",
       "      <td>7</td>\n",
       "      <td>-0.299363</td>\n",
       "      <td>-0.954139</td>\n",
       "      <td>-8.660254e-01</td>\n",
       "      <td>-0.500000</td>\n",
       "      <td>-0.043555</td>\n",
       "      <td>0.999051</td>\n",
       "      <td>0.988468</td>\n",
       "      <td>0.151428</td>\n",
       "      <td>-1.000000</td>\n",
       "      <td>-1.836970e-16</td>\n",
       "      <td>-6.224017e-03</td>\n",
       "      <td>0.999981</td>\n",
       "    </tr>\n",
       "    <tr>\n",
       "      <th>1</th>\n",
       "      <td>2018-11-15 00:00:00</td>\n",
       "      <td>2019-05-08 17:24:00</td>\n",
       "      <td>1.0</td>\n",
       "      <td>Orange Tabby</td>\n",
       "      <td>0.06</td>\n",
       "      <td>6.71</td>\n",
       "      <td>0</td>\n",
       "      <td>1</td>\n",
       "      <td>0.101168</td>\n",
       "      <td>-0.994869</td>\n",
       "      <td>-5.000000e-01</td>\n",
       "      <td>0.866025</td>\n",
       "      <td>-0.003112</td>\n",
       "      <td>0.999995</td>\n",
       "      <td>0.998717</td>\n",
       "      <td>-0.050649</td>\n",
       "      <td>0.500000</td>\n",
       "      <td>-8.660254e-01</td>\n",
       "      <td>-2.449294e-16</td>\n",
       "      <td>1.000000</td>\n",
       "    </tr>\n",
       "    <tr>\n",
       "      <th>2</th>\n",
       "      <td>2012-10-11 00:00:00</td>\n",
       "      <td>2018-04-02 16:51:00</td>\n",
       "      <td>1.0</td>\n",
       "      <td>Black</td>\n",
       "      <td>0.24</td>\n",
       "      <td>41.21</td>\n",
       "      <td>0</td>\n",
       "      <td>7</td>\n",
       "      <td>0.790776</td>\n",
       "      <td>-0.612106</td>\n",
       "      <td>-8.660254e-01</td>\n",
       "      <td>0.500000</td>\n",
       "      <td>-0.021782</td>\n",
       "      <td>0.999763</td>\n",
       "      <td>0.394356</td>\n",
       "      <td>0.918958</td>\n",
       "      <td>0.866025</td>\n",
       "      <td>-5.000000e-01</td>\n",
       "      <td>-3.112023e-03</td>\n",
       "      <td>0.999995</td>\n",
       "    </tr>\n",
       "    <tr>\n",
       "      <th>3</th>\n",
       "      <td>2015-02-13 00:00:00</td>\n",
       "      <td>2018-04-06 07:25:00</td>\n",
       "      <td>1.0</td>\n",
       "      <td>Black</td>\n",
       "      <td>0.29</td>\n",
       "      <td>8.46</td>\n",
       "      <td>7</td>\n",
       "      <td>1</td>\n",
       "      <td>0.485302</td>\n",
       "      <td>-0.874347</td>\n",
       "      <td>8.660254e-01</td>\n",
       "      <td>0.500000</td>\n",
       "      <td>-0.012448</td>\n",
       "      <td>0.999923</td>\n",
       "      <td>0.937752</td>\n",
       "      <td>0.347305</td>\n",
       "      <td>0.866025</td>\n",
       "      <td>-5.000000e-01</td>\n",
       "      <td>-3.112023e-03</td>\n",
       "      <td>0.999995</td>\n",
       "    </tr>\n",
       "    <tr>\n",
       "      <th>4</th>\n",
       "      <td>2017-01-18 00:00:00</td>\n",
       "      <td>2018-04-26 13:42:00</td>\n",
       "      <td>1.0</td>\n",
       "      <td>Brown</td>\n",
       "      <td>0.71</td>\n",
       "      <td>30.92</td>\n",
       "      <td>0</td>\n",
       "      <td>7</td>\n",
       "      <td>-0.485302</td>\n",
       "      <td>-0.874347</td>\n",
       "      <td>5.000000e-01</td>\n",
       "      <td>0.866025</td>\n",
       "      <td>-0.006224</td>\n",
       "      <td>0.999981</td>\n",
       "      <td>-0.848644</td>\n",
       "      <td>0.528964</td>\n",
       "      <td>0.866025</td>\n",
       "      <td>-5.000000e-01</td>\n",
       "      <td>-3.112023e-03</td>\n",
       "      <td>0.999995</td>\n",
       "    </tr>\n",
       "    <tr>\n",
       "      <th>...</th>\n",
       "      <td>...</td>\n",
       "      <td>...</td>\n",
       "      <td>...</td>\n",
       "      <td>...</td>\n",
       "      <td>...</td>\n",
       "      <td>...</td>\n",
       "      <td>...</td>\n",
       "      <td>...</td>\n",
       "      <td>...</td>\n",
       "      <td>...</td>\n",
       "      <td>...</td>\n",
       "      <td>...</td>\n",
       "      <td>...</td>\n",
       "      <td>...</td>\n",
       "      <td>...</td>\n",
       "      <td>...</td>\n",
       "      <td>...</td>\n",
       "      <td>...</td>\n",
       "      <td>...</td>\n",
       "      <td>...</td>\n",
       "    </tr>\n",
       "    <tr>\n",
       "      <th>8067</th>\n",
       "      <td>2016-02-10 00:00:00</td>\n",
       "      <td>2017-03-10 14:56:00</td>\n",
       "      <td>2.0</td>\n",
       "      <td>Brown</td>\n",
       "      <td>0.82</td>\n",
       "      <td>36.08</td>\n",
       "      <td>13</td>\n",
       "      <td>9</td>\n",
       "      <td>0.897805</td>\n",
       "      <td>-0.440394</td>\n",
       "      <td>8.660254e-01</td>\n",
       "      <td>0.500000</td>\n",
       "      <td>-0.009336</td>\n",
       "      <td>0.999956</td>\n",
       "      <td>0.897805</td>\n",
       "      <td>-0.440394</td>\n",
       "      <td>1.000000</td>\n",
       "      <td>6.123234e-17</td>\n",
       "      <td>-6.224017e-03</td>\n",
       "      <td>0.999981</td>\n",
       "    </tr>\n",
       "    <tr>\n",
       "      <th>8068</th>\n",
       "      <td>2015-12-07 00:00:00</td>\n",
       "      <td>2018-02-12 00:00:00</td>\n",
       "      <td>0.0</td>\n",
       "      <td>Tan</td>\n",
       "      <td>0.49</td>\n",
       "      <td>27.54</td>\n",
       "      <td>13</td>\n",
       "      <td>9</td>\n",
       "      <td>0.988468</td>\n",
       "      <td>0.151428</td>\n",
       "      <td>-2.449294e-16</td>\n",
       "      <td>1.000000</td>\n",
       "      <td>-0.012448</td>\n",
       "      <td>0.999923</td>\n",
       "      <td>0.651372</td>\n",
       "      <td>-0.758758</td>\n",
       "      <td>0.866025</td>\n",
       "      <td>5.000000e-01</td>\n",
       "      <td>-3.112023e-03</td>\n",
       "      <td>0.999995</td>\n",
       "    </tr>\n",
       "    <tr>\n",
       "      <th>8069</th>\n",
       "      <td>2015-12-08 00:00:00</td>\n",
       "      <td>2017-01-04 17:19:00</td>\n",
       "      <td>0.0</td>\n",
       "      <td>Black</td>\n",
       "      <td>0.98</td>\n",
       "      <td>37.19</td>\n",
       "      <td>0</td>\n",
       "      <td>7</td>\n",
       "      <td>0.998717</td>\n",
       "      <td>-0.050649</td>\n",
       "      <td>-2.449294e-16</td>\n",
       "      <td>1.000000</td>\n",
       "      <td>-0.012448</td>\n",
       "      <td>0.999923</td>\n",
       "      <td>0.724793</td>\n",
       "      <td>0.688967</td>\n",
       "      <td>0.500000</td>\n",
       "      <td>8.660254e-01</td>\n",
       "      <td>-6.224017e-03</td>\n",
       "      <td>0.999981</td>\n",
       "    </tr>\n",
       "    <tr>\n",
       "      <th>8070</th>\n",
       "      <td>2016-06-28 00:00:00</td>\n",
       "      <td>2017-07-20 18:19:00</td>\n",
       "      <td>NaN</td>\n",
       "      <td>Black</td>\n",
       "      <td>0.79</td>\n",
       "      <td>23.83</td>\n",
       "      <td>0</td>\n",
       "      <td>2</td>\n",
       "      <td>-0.571268</td>\n",
       "      <td>0.820763</td>\n",
       "      <td>1.224647e-16</td>\n",
       "      <td>-1.000000</td>\n",
       "      <td>-0.009336</td>\n",
       "      <td>0.999956</td>\n",
       "      <td>-0.790776</td>\n",
       "      <td>-0.612106</td>\n",
       "      <td>-0.500000</td>\n",
       "      <td>-8.660254e-01</td>\n",
       "      <td>-6.224017e-03</td>\n",
       "      <td>0.999981</td>\n",
       "    </tr>\n",
       "    <tr>\n",
       "      <th>8071</th>\n",
       "      <td>2016-02-02 00:00:00</td>\n",
       "      <td>2017-02-28 16:47:00</td>\n",
       "      <td>0.0</td>\n",
       "      <td>Black</td>\n",
       "      <td>0.64</td>\n",
       "      <td>24.51</td>\n",
       "      <td>0</td>\n",
       "      <td>1</td>\n",
       "      <td>0.394356</td>\n",
       "      <td>0.918958</td>\n",
       "      <td>8.660254e-01</td>\n",
       "      <td>0.500000</td>\n",
       "      <td>-0.009336</td>\n",
       "      <td>0.999956</td>\n",
       "      <td>-0.571268</td>\n",
       "      <td>0.820763</td>\n",
       "      <td>0.866025</td>\n",
       "      <td>5.000000e-01</td>\n",
       "      <td>-6.224017e-03</td>\n",
       "      <td>0.999981</td>\n",
       "    </tr>\n",
       "  </tbody>\n",
       "</table>\n",
       "<p>8072 rows × 20 columns</p>\n",
       "</div>"
      ],
      "text/plain": [
       "               issue_date         listing_date  condition    color_type  \\\n",
       "0     2005-08-17 00:00:00  2017-09-07 15:35:00        0.0         Black   \n",
       "1     2018-11-15 00:00:00  2019-05-08 17:24:00        1.0  Orange Tabby   \n",
       "2     2012-10-11 00:00:00  2018-04-02 16:51:00        1.0         Black   \n",
       "3     2015-02-13 00:00:00  2018-04-06 07:25:00        1.0         Black   \n",
       "4     2017-01-18 00:00:00  2018-04-26 13:42:00        1.0         Brown   \n",
       "...                   ...                  ...        ...           ...   \n",
       "8067  2016-02-10 00:00:00  2017-03-10 14:56:00        2.0         Brown   \n",
       "8068  2015-12-07 00:00:00  2018-02-12 00:00:00        0.0           Tan   \n",
       "8069  2015-12-08 00:00:00  2017-01-04 17:19:00        0.0         Black   \n",
       "8070  2016-06-28 00:00:00  2017-07-20 18:19:00        NaN         Black   \n",
       "8071  2016-02-02 00:00:00  2017-02-28 16:47:00        0.0         Black   \n",
       "\n",
       "      length(m)  height(cm)  X1  X2  DAY_issue_sin  DAY_issue_cos  \\\n",
       "0          0.87       42.73   0   7      -0.299363      -0.954139   \n",
       "1          0.06        6.71   0   1       0.101168      -0.994869   \n",
       "2          0.24       41.21   0   7       0.790776      -0.612106   \n",
       "3          0.29        8.46   7   1       0.485302      -0.874347   \n",
       "4          0.71       30.92   0   7      -0.485302      -0.874347   \n",
       "...         ...         ...  ..  ..            ...            ...   \n",
       "8067       0.82       36.08  13   9       0.897805      -0.440394   \n",
       "8068       0.49       27.54  13   9       0.988468       0.151428   \n",
       "8069       0.98       37.19   0   7       0.998717      -0.050649   \n",
       "8070       0.79       23.83   0   2      -0.571268       0.820763   \n",
       "8071       0.64       24.51   0   1       0.394356       0.918958   \n",
       "\n",
       "      MONTH_issue_sin  MONTH_issue_cos  YEAR_issue_sin  YEAR_issue_cos  \\\n",
       "0       -8.660254e-01        -0.500000       -0.043555        0.999051   \n",
       "1       -5.000000e-01         0.866025       -0.003112        0.999995   \n",
       "2       -8.660254e-01         0.500000       -0.021782        0.999763   \n",
       "3        8.660254e-01         0.500000       -0.012448        0.999923   \n",
       "4        5.000000e-01         0.866025       -0.006224        0.999981   \n",
       "...               ...              ...             ...             ...   \n",
       "8067     8.660254e-01         0.500000       -0.009336        0.999956   \n",
       "8068    -2.449294e-16         1.000000       -0.012448        0.999923   \n",
       "8069    -2.449294e-16         1.000000       -0.012448        0.999923   \n",
       "8070     1.224647e-16        -1.000000       -0.009336        0.999956   \n",
       "8071     8.660254e-01         0.500000       -0.009336        0.999956   \n",
       "\n",
       "      DAY_listing_sin  DAY_listing_cos  MONTH_listing_sin  MONTH_listing_cos  \\\n",
       "0            0.988468         0.151428          -1.000000      -1.836970e-16   \n",
       "1            0.998717        -0.050649           0.500000      -8.660254e-01   \n",
       "2            0.394356         0.918958           0.866025      -5.000000e-01   \n",
       "3            0.937752         0.347305           0.866025      -5.000000e-01   \n",
       "4           -0.848644         0.528964           0.866025      -5.000000e-01   \n",
       "...               ...              ...                ...                ...   \n",
       "8067         0.897805        -0.440394           1.000000       6.123234e-17   \n",
       "8068         0.651372        -0.758758           0.866025       5.000000e-01   \n",
       "8069         0.724793         0.688967           0.500000       8.660254e-01   \n",
       "8070        -0.790776        -0.612106          -0.500000      -8.660254e-01   \n",
       "8071        -0.571268         0.820763           0.866025       5.000000e-01   \n",
       "\n",
       "      YEAR_listing_sin  YEAR_listing_cos  \n",
       "0        -6.224017e-03          0.999981  \n",
       "1        -2.449294e-16          1.000000  \n",
       "2        -3.112023e-03          0.999995  \n",
       "3        -3.112023e-03          0.999995  \n",
       "4        -3.112023e-03          0.999995  \n",
       "...                ...               ...  \n",
       "8067     -6.224017e-03          0.999981  \n",
       "8068     -3.112023e-03          0.999995  \n",
       "8069     -6.224017e-03          0.999981  \n",
       "8070     -6.224017e-03          0.999981  \n",
       "8071     -6.224017e-03          0.999981  \n",
       "\n",
       "[8072 rows x 20 columns]"
      ]
     },
     "execution_count": 14,
     "metadata": {},
     "output_type": "execute_result"
    }
   ],
   "source": [
    "code_cyclic_features(pet_train,['DAY_listing','MONTH_listing','YEAR_listing'])\n",
    "code_cyclic_features(pet_test,['DAY_listing','MONTH_listing','YEAR_listing'])"
   ]
  },
  {
   "cell_type": "code",
   "execution_count": null,
   "metadata": {
    "scrolled": true
   },
   "outputs": [],
   "source": []
  },
  {
   "cell_type": "code",
   "execution_count": 15,
   "metadata": {},
   "outputs": [],
   "source": [
    "import seaborn as sns"
   ]
  },
  {
   "cell_type": "code",
   "execution_count": 16,
   "metadata": {},
   "outputs": [
    {
     "data": {
      "text/plain": [
       "[]"
      ]
     },
     "execution_count": 16,
     "metadata": {},
     "output_type": "execute_result"
    },
    {
     "data": {
      "image/png": "[encoded data removed]",
      "text/plain": [
       "<Figure size 432x288 with 1 Axes>"
      ]
     },
     "metadata": {
      "needs_background": "light"
     },
     "output_type": "display_data"
    }
   ],
   "source": [
    "sns.scatterplot(pet_train['DAY_issue_sin'],pet_train['DAY_issue_cos']).plot()"
   ]
  },
  {
   "cell_type": "code",
   "execution_count": 17,
   "metadata": {},
   "outputs": [
    {
     "data": {
      "text/plain": [
       "[]"
      ]
     },
     "execution_count": 17,
     "metadata": {},
     "output_type": "execute_result"
    },
    {
     "data": {
      "image/png": "[encoded data removed]",
      "text/plain": [
       "<Figure size 432x288 with 1 Axes>"
      ]
     },
     "metadata": {
      "needs_background": "light"
     },
     "output_type": "display_data"
    }
   ],
   "source": [
    "sns.scatterplot(pet_test['DAY_listing_sin'],pet_test['DAY_listing_cos']).plot()"
   ]
  },
  {
   "cell_type": "code",
   "execution_count": null,
   "metadata": {},
   "outputs": [],
   "source": []
  },
  {
   "cell_type": "code",
   "execution_count": null,
   "metadata": {},
   "outputs": [],
   "source": []
  },
  {
   "cell_type": "code",
   "execution_count": null,
   "metadata": {},
   "outputs": [],
   "source": []
  },
  {
   "cell_type": "code",
   "execution_count": 18,
   "metadata": {},
   "outputs": [],
   "source": [
    "for col in ['issue_date','listing_date']:\n",
    "    pet_train[col]=pd.to_datetime(pet_train[col],infer_datetime_format=True)\n",
    "    pet_test[col]=pd.to_datetime(pet_test[col],infer_datetime_format=True)"
   ]
  },
  {
   "cell_type": "code",
   "execution_count": 19,
   "metadata": {},
   "outputs": [],
   "source": [
    "pet_train['day_diff']=pd.to_numeric(pet_train['listing_date']-pet_train['issue_date'])\n",
    "pet_test['day_diff']=pd.to_numeric(pet_test['listing_date']-pet_test['issue_date'])"
   ]
  },
  {
   "cell_type": "code",
   "execution_count": null,
   "metadata": {},
   "outputs": [],
   "source": []
  },
  {
   "cell_type": "code",
   "execution_count": 20,
   "metadata": {},
   "outputs": [],
   "source": [
    "for col in ['issue_date','listing_date']:\n",
    "    pet_train.drop([col],1,inplace=True)\n",
    "    pet_test.drop([col],1,inplace=True)"
   ]
  },
  {
   "cell_type": "code",
   "execution_count": 21,
   "metadata": {},
   "outputs": [
    {
     "name": "stdout",
     "output_type": "stream",
     "text": [
      "color_type : 56\n"
     ]
    }
   ],
   "source": [
    "for col in pet_train.select_dtypes(['object']).columns:\n",
    "    print(col,':',pet_train[col].nunique())"
   ]
  },
  {
   "cell_type": "code",
   "execution_count": 22,
   "metadata": {},
   "outputs": [
    {
     "data": {
      "text/plain": [
       "condition            float64\n",
       "color_type            object\n",
       "length(m)            float64\n",
       "height(cm)           float64\n",
       "X1                     int64\n",
       "X2                     int64\n",
       "breed_category       float64\n",
       "pet_category           int64\n",
       "DAY_issue_sin        float64\n",
       "DAY_issue_cos        float64\n",
       "MONTH_issue_sin      float64\n",
       "MONTH_issue_cos      float64\n",
       "YEAR_issue_sin       float64\n",
       "YEAR_issue_cos       float64\n",
       "DAY_listing_sin      float64\n",
       "DAY_listing_cos      float64\n",
       "MONTH_listing_sin    float64\n",
       "MONTH_listing_cos    float64\n",
       "YEAR_listing_sin     float64\n",
       "YEAR_listing_cos     float64\n",
       "day_diff               int64\n",
       "dtype: object"
      ]
     },
     "execution_count": 22,
     "metadata": {},
     "output_type": "execute_result"
    }
   ],
   "source": [
    "pet_train.dtypes"
   ]
  },
  {
   "cell_type": "code",
   "execution_count": 23,
   "metadata": {},
   "outputs": [
    {
     "data": {
      "text/plain": [
       "condition            float64\n",
       "color_type            object\n",
       "length(m)            float64\n",
       "height(cm)           float64\n",
       "X1                     int64\n",
       "X2                     int64\n",
       "DAY_issue_sin        float64\n",
       "DAY_issue_cos        float64\n",
       "MONTH_issue_sin      float64\n",
       "MONTH_issue_cos      float64\n",
       "YEAR_issue_sin       float64\n",
       "YEAR_issue_cos       float64\n",
       "DAY_listing_sin      float64\n",
       "DAY_listing_cos      float64\n",
       "MONTH_listing_sin    float64\n",
       "MONTH_listing_cos    float64\n",
       "YEAR_listing_sin     float64\n",
       "YEAR_listing_cos     float64\n",
       "day_diff               int64\n",
       "dtype: object"
      ]
     },
     "execution_count": 23,
     "metadata": {},
     "output_type": "execute_result"
    }
   ],
   "source": [
    "pet_test.dtypes"
   ]
  },
  {
   "cell_type": "code",
   "execution_count": 13,
   "metadata": {},
   "outputs": [],
   "source": [
    "#  Categorical Embeddings"
   ]
  },
  {
   "cell_type": "code",
   "execution_count": 8,
   "metadata": {},
   "outputs": [
    {
     "name": "stdout",
     "output_type": "stream",
     "text": [
      "color_type : 54\n"
     ]
    }
   ],
   "source": [
    "for col in pet_test.columns:\n",
    "        if pet_test[col].dtype==object:\n",
    "            if pet_test[col].value_counts().count()>=9:\n",
    "                print (col,':',pet_test[col].value_counts().count())"
   ]
  },
  {
   "cell_type": "code",
   "execution_count": 24,
   "metadata": {
    "scrolled": true
   },
   "outputs": [
    {
     "name": "stderr",
     "output_type": "stream",
     "text": [
      "Using TensorFlow backend.\n",
      "E:\\ProgramData\\Anaconda3\\envs\\tensorflow\\lib\\site-packages\\tensorflow\\python\\framework\\dtypes.py:516: FutureWarning: Passing (type, 1) or '1type' as a synonym of type is deprecated; in a future version of numpy, it will be understood as (type, (1,)) / '(1,)type'.\n",
      "  _np_qint8 = np.dtype([(\"qint8\", np.int8, 1)])\n",
      "E:\\ProgramData\\Anaconda3\\envs\\tensorflow\\lib\\site-packages\\tensorflow\\python\\framework\\dtypes.py:517: FutureWarning: Passing (type, 1) or '1type' as a synonym of type is deprecated; in a future version of numpy, it will be understood as (type, (1,)) / '(1,)type'.\n",
      "  _np_quint8 = np.dtype([(\"quint8\", np.uint8, 1)])\n",
      "E:\\ProgramData\\Anaconda3\\envs\\tensorflow\\lib\\site-packages\\tensorflow\\python\\framework\\dtypes.py:518: FutureWarning: Passing (type, 1) or '1type' as a synonym of type is deprecated; in a future version of numpy, it will be understood as (type, (1,)) / '(1,)type'.\n",
      "  _np_qint16 = np.dtype([(\"qint16\", np.int16, 1)])\n",
      "E:\\ProgramData\\Anaconda3\\envs\\tensorflow\\lib\\site-packages\\tensorflow\\python\\framework\\dtypes.py:519: FutureWarning: Passing (type, 1) or '1type' as a synonym of type is deprecated; in a future version of numpy, it will be understood as (type, (1,)) / '(1,)type'.\n",
      "  _np_quint16 = np.dtype([(\"quint16\", np.uint16, 1)])\n",
      "E:\\ProgramData\\Anaconda3\\envs\\tensorflow\\lib\\site-packages\\tensorflow\\python\\framework\\dtypes.py:520: FutureWarning: Passing (type, 1) or '1type' as a synonym of type is deprecated; in a future version of numpy, it will be understood as (type, (1,)) / '(1,)type'.\n",
      "  _np_qint32 = np.dtype([(\"qint32\", np.int32, 1)])\n",
      "E:\\ProgramData\\Anaconda3\\envs\\tensorflow\\lib\\site-packages\\tensorflow\\python\\framework\\dtypes.py:525: FutureWarning: Passing (type, 1) or '1type' as a synonym of type is deprecated; in a future version of numpy, it will be understood as (type, (1,)) / '(1,)type'.\n",
      "  np_resource = np.dtype([(\"resource\", np.ubyte, 1)])\n",
      "E:\\ProgramData\\Anaconda3\\envs\\tensorflow\\lib\\site-packages\\tensorboard\\compat\\tensorflow_stub\\dtypes.py:541: FutureWarning: Passing (type, 1) or '1type' as a synonym of type is deprecated; in a future version of numpy, it will be understood as (type, (1,)) / '(1,)type'.\n",
      "  _np_qint8 = np.dtype([(\"qint8\", np.int8, 1)])\n",
      "E:\\ProgramData\\Anaconda3\\envs\\tensorflow\\lib\\site-packages\\tensorboard\\compat\\tensorflow_stub\\dtypes.py:542: FutureWarning: Passing (type, 1) or '1type' as a synonym of type is deprecated; in a future version of numpy, it will be understood as (type, (1,)) / '(1,)type'.\n",
      "  _np_quint8 = np.dtype([(\"quint8\", np.uint8, 1)])\n",
      "E:\\ProgramData\\Anaconda3\\envs\\tensorflow\\lib\\site-packages\\tensorboard\\compat\\tensorflow_stub\\dtypes.py:543: FutureWarning: Passing (type, 1) or '1type' as a synonym of type is deprecated; in a future version of numpy, it will be understood as (type, (1,)) / '(1,)type'.\n",
      "  _np_qint16 = np.dtype([(\"qint16\", np.int16, 1)])\n",
      "E:\\ProgramData\\Anaconda3\\envs\\tensorflow\\lib\\site-packages\\tensorboard\\compat\\tensorflow_stub\\dtypes.py:544: FutureWarning: Passing (type, 1) or '1type' as a synonym of type is deprecated; in a future version of numpy, it will be understood as (type, (1,)) / '(1,)type'.\n",
      "  _np_quint16 = np.dtype([(\"quint16\", np.uint16, 1)])\n",
      "E:\\ProgramData\\Anaconda3\\envs\\tensorflow\\lib\\site-packages\\tensorboard\\compat\\tensorflow_stub\\dtypes.py:545: FutureWarning: Passing (type, 1) or '1type' as a synonym of type is deprecated; in a future version of numpy, it will be understood as (type, (1,)) / '(1,)type'.\n",
      "  _np_qint32 = np.dtype([(\"qint32\", np.int32, 1)])\n",
      "E:\\ProgramData\\Anaconda3\\envs\\tensorflow\\lib\\site-packages\\tensorboard\\compat\\tensorflow_stub\\dtypes.py:550: FutureWarning: Passing (type, 1) or '1type' as a synonym of type is deprecated; in a future version of numpy, it will be understood as (type, (1,)) / '(1,)type'.\n",
      "  np_resource = np.dtype([(\"resource\", np.ubyte, 1)])\n"
     ]
    }
   ],
   "source": [
    "from keras.models import Model,Sequential\n",
    "from keras.layers import Dense,Input"
   ]
  },
  {
   "cell_type": "code",
   "execution_count": null,
   "metadata": {},
   "outputs": [],
   "source": []
  },
  {
   "cell_type": "code",
   "execution_count": 25,
   "metadata": {
    "scrolled": true
   },
   "outputs": [
    {
     "name": "stdout",
     "output_type": "stream",
     "text": [
      "WARNING:tensorflow:From E:\\ProgramData\\Anaconda3\\envs\\tensorflow\\lib\\site-packages\\keras\\backend\\tensorflow_backend.py:422: The name tf.global_variables is deprecated. Please use tf.compat.v1.global_variables instead.\n",
      "\n",
      "Epoch 1/150\n",
      "18834/18834 [==============================] - 1s 45us/step - loss: 3.7186 - accuracy: 0.1010\n",
      "Epoch 2/150\n",
      "18834/18834 [==============================] - 1s 36us/step - loss: 2.6386 - accuracy: 0.1964\n",
      "Epoch 3/150\n",
      "18834/18834 [==============================] - 1s 38us/step - loss: 1.8591 - accuracy: 0.4081\n",
      "Epoch 4/150\n",
      "18834/18834 [==============================] - 1s 39us/step - loss: 1.3590 - accuracy: 0.6402\n",
      "Epoch 5/150\n",
      "18834/18834 [==============================] - 1s 39us/step - loss: 1.0135 - accuracy: 0.7678\n",
      "Epoch 6/150\n",
      "18834/18834 [==============================] - 1s 38us/step - loss: 0.7955 - accuracy: 0.7743\n",
      "Epoch 7/150\n",
      "18834/18834 [==============================] - 1s 40us/step - loss: 0.6550 - accuracy: 0.8075\n",
      "Epoch 8/150\n",
      "18834/18834 [==============================] - 1s 36us/step - loss: 0.5534 - accuracy: 0.8299\n",
      "Epoch 9/150\n",
      "18834/18834 [==============================] - 1s 36us/step - loss: 0.4708 - accuracy: 0.8568\n",
      "Epoch 10/150\n",
      "18834/18834 [==============================] - 1s 38us/step - loss: 0.4012 - accuracy: 0.8958\n",
      "Epoch 11/150\n",
      "18834/18834 [==============================] - 1s 40us/step - loss: 0.3424 - accuracy: 0.9091\n",
      "Epoch 12/150\n",
      "18834/18834 [==============================] - 1s 37us/step - loss: 0.2946 - accuracy: 0.9308\n",
      "Epoch 13/150\n",
      "18834/18834 [==============================] - 1s 38us/step - loss: 0.2577 - accuracy: 0.9327\n",
      "Epoch 14/150\n",
      "18834/18834 [==============================] - 1s 40us/step - loss: 0.2294 - accuracy: 0.9327\n",
      "Epoch 15/150\n",
      "18834/18834 [==============================] - 1s 36us/step - loss: 0.2065 - accuracy: 0.9429\n",
      "Epoch 16/150\n",
      "18834/18834 [==============================] - 1s 35us/step - loss: 0.1860 - accuracy: 0.9613\n",
      "Epoch 17/150\n",
      "18834/18834 [==============================] - 1s 36us/step - loss: 0.1671 - accuracy: 0.9654\n",
      "Epoch 18/150\n",
      "18834/18834 [==============================] - 1s 38us/step - loss: 0.1502 - accuracy: 0.9662\n",
      "Epoch 19/150\n",
      "18834/18834 [==============================] - 1s 50us/step - loss: 0.1353 - accuracy: 0.9695\n",
      "Epoch 20/150\n",
      "18834/18834 [==============================] - 1s 36us/step - loss: 0.1219 - accuracy: 0.9718\n",
      "Epoch 21/150\n",
      "18834/18834 [==============================] - 1s 37us/step - loss: 0.1101 - accuracy: 0.9770\n",
      "Epoch 22/150\n",
      "18834/18834 [==============================] - 1s 33us/step - loss: 0.0994 - accuracy: 0.9782\n",
      "Epoch 23/150\n",
      "18834/18834 [==============================] - 1s 30us/step - loss: 0.0900 - accuracy: 0.9808\n",
      "Epoch 24/150\n",
      "18834/18834 [==============================] - 0s 23us/step - loss: 0.0816 - accuracy: 0.9817\n",
      "Epoch 25/150\n",
      "18834/18834 [==============================] - 0s 22us/step - loss: 0.0741 - accuracy: 0.9838\n",
      "Epoch 26/150\n",
      "18834/18834 [==============================] - 0s 22us/step - loss: 0.0674 - accuracy: 0.9852\n",
      "Epoch 27/150\n",
      "18834/18834 [==============================] - 0s 22us/step - loss: 0.0612 - accuracy: 0.9869\n",
      "Epoch 28/150\n",
      "18834/18834 [==============================] - 0s 22us/step - loss: 0.0558 - accuracy: 0.9870\n",
      "Epoch 29/150\n",
      "18834/18834 [==============================] - 0s 22us/step - loss: 0.0510 - accuracy: 0.9872\n",
      "Epoch 30/150\n",
      "18834/18834 [==============================] - 0s 21us/step - loss: 0.0467 - accuracy: 0.9884\n",
      "Epoch 31/150\n",
      "18834/18834 [==============================] - 0s 22us/step - loss: 0.0429 - accuracy: 0.9894\n",
      "Epoch 32/150\n",
      "18834/18834 [==============================] - 0s 21us/step - loss: 0.0395 - accuracy: 0.9913\n",
      "Epoch 33/150\n",
      "18834/18834 [==============================] - 0s 22us/step - loss: 0.0364 - accuracy: 0.9921\n",
      "Epoch 34/150\n",
      "18834/18834 [==============================] - 0s 22us/step - loss: 0.0336 - accuracy: 0.9922\n",
      "Epoch 35/150\n",
      "18834/18834 [==============================] - 0s 22us/step - loss: 0.0311 - accuracy: 0.9938\n",
      "Epoch 36/150\n",
      "18834/18834 [==============================] - 0s 23us/step - loss: 0.0288 - accuracy: 0.9939\n",
      "Epoch 37/150\n",
      "18834/18834 [==============================] - 0s 22us/step - loss: 0.0267 - accuracy: 0.9939\n",
      "Epoch 38/150\n",
      "18834/18834 [==============================] - 0s 23us/step - loss: 0.0248 - accuracy: 0.9944\n",
      "Epoch 39/150\n",
      "18834/18834 [==============================] - 0s 22us/step - loss: 0.0230 - accuracy: 0.9947\n",
      "Epoch 40/150\n",
      "18834/18834 [==============================] - 0s 22us/step - loss: 0.0213 - accuracy: 0.9948\n",
      "Epoch 41/150\n",
      "18834/18834 [==============================] - 0s 22us/step - loss: 0.0197 - accuracy: 0.9950\n",
      "Epoch 42/150\n",
      "18834/18834 [==============================] - 0s 23us/step - loss: 0.0183 - accuracy: 0.9952\n",
      "Epoch 43/150\n",
      "18834/18834 [==============================] - 0s 25us/step - loss: 0.0170 - accuracy: 0.9958\n",
      "Epoch 44/150\n",
      "18834/18834 [==============================] - 0s 23us/step - loss: 0.0158 - accuracy: 0.9961\n",
      "Epoch 45/150\n",
      "18834/18834 [==============================] - 0s 23us/step - loss: 0.0146 - accuracy: 0.9971\n",
      "Epoch 46/150\n",
      "18834/18834 [==============================] - 0s 23us/step - loss: 0.0135 - accuracy: 0.9974\n",
      "Epoch 47/150\n",
      "18834/18834 [==============================] - 0s 22us/step - loss: 0.0124 - accuracy: 0.9979\n",
      "Epoch 48/150\n",
      "18834/18834 [==============================] - 0s 23us/step - loss: 0.0115 - accuracy: 0.9982\n",
      "Epoch 49/150\n",
      "18834/18834 [==============================] - 0s 23us/step - loss: 0.0106 - accuracy: 0.9984\n",
      "Epoch 50/150\n",
      "18834/18834 [==============================] - 0s 23us/step - loss: 0.0096 - accuracy: 0.9984\n",
      "Epoch 51/150\n",
      "18834/18834 [==============================] - 0s 23us/step - loss: 0.0089 - accuracy: 0.9984\n",
      "Epoch 52/150\n",
      "18834/18834 [==============================] - 1s 28us/step - loss: 0.0081 - accuracy: 0.9984\n",
      "Epoch 53/150\n",
      "18834/18834 [==============================] - 1s 28us/step - loss: 0.0075 - accuracy: 0.9985\n",
      "Epoch 54/150\n",
      "18834/18834 [==============================] - 1s 28us/step - loss: 0.0068 - accuracy: 0.9987 0s - loss: 0.0062 - \n",
      "Epoch 55/150\n",
      "18834/18834 [==============================] - 1s 27us/step - loss: 0.0063 - accuracy: 0.9989\n",
      "Epoch 56/150\n",
      "18834/18834 [==============================] - 0s 26us/step - loss: 0.0058 - accuracy: 0.9992\n",
      "Epoch 57/150\n",
      "18834/18834 [==============================] - 0s 24us/step - loss: 0.0053 - accuracy: 0.9994\n",
      "Epoch 58/150\n",
      "18834/18834 [==============================] - 0s 21us/step - loss: 0.0048 - accuracy: 0.9995\n",
      "Epoch 59/150\n",
      "18834/18834 [==============================] - 0s 20us/step - loss: 0.0044 - accuracy: 0.9995\n",
      "Epoch 60/150\n",
      "18834/18834 [==============================] - 0s 21us/step - loss: 0.0041 - accuracy: 0.9995\n",
      "Epoch 61/150\n",
      "18834/18834 [==============================] - 0s 21us/step - loss: 0.0038 - accuracy: 0.9996\n",
      "Epoch 62/150\n",
      "18834/18834 [==============================] - 0s 21us/step - loss: 0.0034 - accuracy: 0.9996\n",
      "Epoch 63/150\n",
      "18834/18834 [==============================] - 0s 21us/step - loss: 0.0032 - accuracy: 0.9995\n",
      "Epoch 64/150\n",
      "18834/18834 [==============================] - 0s 21us/step - loss: 0.0029 - accuracy: 0.9995\n",
      "Epoch 65/150\n",
      "18834/18834 [==============================] - 0s 21us/step - loss: 0.0027 - accuracy: 0.9996\n",
      "Epoch 66/150\n",
      "18834/18834 [==============================] - 0s 21us/step - loss: 0.0025 - accuracy: 0.9995\n",
      "Epoch 67/150\n",
      "18834/18834 [==============================] - 0s 21us/step - loss: 0.0024 - accuracy: 0.9995\n",
      "Epoch 68/150\n",
      "18834/18834 [==============================] - 0s 21us/step - loss: 0.0022 - accuracy: 0.9995\n",
      "Epoch 69/150\n",
      "18834/18834 [==============================] - 0s 20us/step - loss: 0.0021 - accuracy: 0.9995\n",
      "Epoch 70/150\n",
      "18834/18834 [==============================] - 0s 22us/step - loss: 0.0019 - accuracy: 0.9995\n",
      "Epoch 71/150\n",
      "18834/18834 [==============================] - 0s 21us/step - loss: 0.0018 - accuracy: 0.9995\n",
      "Epoch 72/150\n",
      "18834/18834 [==============================] - 0s 21us/step - loss: 0.0017 - accuracy: 0.9995\n",
      "Epoch 73/150\n",
      "18834/18834 [==============================] - 0s 21us/step - loss: 0.0016 - accuracy: 0.9995\n",
      "Epoch 74/150\n",
      "18834/18834 [==============================] - 0s 21us/step - loss: 0.0015 - accuracy: 0.9995\n",
      "Epoch 75/150\n",
      "18834/18834 [==============================] - 0s 21us/step - loss: 0.0014 - accuracy: 0.9997\n",
      "Epoch 76/150\n",
      "18834/18834 [==============================] - 0s 22us/step - loss: 0.0014 - accuracy: 0.9997\n",
      "Epoch 77/150\n",
      "18834/18834 [==============================] - 0s 21us/step - loss: 0.0013 - accuracy: 0.9997\n",
      "Epoch 78/150\n",
      "18834/18834 [==============================] - 0s 21us/step - loss: 0.0012 - accuracy: 0.9996\n",
      "Epoch 79/150\n",
      "18834/18834 [==============================] - 0s 21us/step - loss: 0.0012 - accuracy: 0.9996\n",
      "Epoch 80/150\n",
      "18834/18834 [==============================] - 0s 21us/step - loss: 0.0011 - accuracy: 0.9997\n",
      "Epoch 81/150\n",
      "18834/18834 [==============================] - 0s 21us/step - loss: 0.0010 - accuracy: 0.9998\n",
      "Epoch 82/150\n",
      "18834/18834 [==============================] - 0s 21us/step - loss: 9.9814e-04 - accuracy: 0.9997\n",
      "Epoch 83/150\n",
      "18834/18834 [==============================] - 0s 21us/step - loss: 9.0910e-04 - accuracy: 0.9999\n",
      "Epoch 84/150\n",
      "18834/18834 [==============================] - 0s 21us/step - loss: 8.3901e-04 - accuracy: 0.9999\n",
      "Epoch 85/150\n",
      "18834/18834 [==============================] - 0s 21us/step - loss: 7.8220e-04 - accuracy: 0.9999\n",
      "Epoch 86/150\n",
      "18834/18834 [==============================] - 0s 21us/step - loss: 7.0851e-04 - accuracy: 0.9999\n",
      "Epoch 87/150\n",
      "18834/18834 [==============================] - 0s 21us/step - loss: 6.5832e-04 - accuracy: 0.9999\n",
      "Epoch 88/150\n",
      "18834/18834 [==============================] - 0s 21us/step - loss: 6.0012e-04 - accuracy: 0.9999\n",
      "Epoch 89/150\n",
      "18834/18834 [==============================] - 0s 21us/step - loss: 5.5057e-04 - accuracy: 0.9999\n",
      "Epoch 90/150\n",
      "18834/18834 [==============================] - 0s 21us/step - loss: 5.0646e-04 - accuracy: 0.9999\n",
      "Epoch 91/150\n",
      "18834/18834 [==============================] - 1s 29us/step - loss: 4.6891e-04 - accuracy: 0.9999\n",
      "Epoch 92/150\n",
      "18834/18834 [==============================] - 1s 28us/step - loss: 4.3940e-04 - accuracy: 0.9999\n",
      "Epoch 93/150\n",
      "18834/18834 [==============================] - 1s 29us/step - loss: 4.0650e-04 - accuracy: 0.9999 0s - loss: 6.8986e-04 \n",
      "Epoch 94/150\n",
      "18834/18834 [==============================] - 1s 29us/step - loss: 3.8150e-04 - accuracy: 0.9999\n",
      "Epoch 95/150\n",
      "18834/18834 [==============================] - 0s 26us/step - loss: 3.5977e-04 - accuracy: 0.9999\n",
      "Epoch 96/150\n",
      "18834/18834 [==============================] - 0s 22us/step - loss: 3.3838e-04 - accuracy: 0.9999\n",
      "Epoch 97/150\n",
      "18834/18834 [==============================] - 0s 25us/step - loss: 3.2309e-04 - accuracy: 0.9999\n",
      "Epoch 98/150\n",
      "18834/18834 [==============================] - 1s 27us/step - loss: 3.0767e-04 - accuracy: 0.9999\n",
      "Epoch 99/150\n",
      "18834/18834 [==============================] - 0s 26us/step - loss: 2.9333e-04 - accuracy: 0.9999\n",
      "Epoch 100/150\n",
      "18834/18834 [==============================] - 0s 25us/step - loss: 2.8119e-04 - accuracy: 0.9999\n",
      "Epoch 101/150\n",
      "18834/18834 [==============================] - 0s 26us/step - loss: 2.7051e-04 - accuracy: 0.9999\n",
      "Epoch 102/150\n",
      "18834/18834 [==============================] - 0s 26us/step - loss: 2.6451e-04 - accuracy: 0.9999\n",
      "Epoch 103/150\n",
      "18834/18834 [==============================] - 0s 23us/step - loss: 2.5441e-04 - accuracy: 0.9999 0s - loss: 6.1795e-04 - accu\n",
      "Epoch 104/150\n",
      "18834/18834 [==============================] - 0s 22us/step - loss: 2.4616e-04 - accuracy: 0.9999 0s - loss: 4.2421e-04 - accu\n",
      "Epoch 105/150\n",
      "18834/18834 [==============================] - 0s 21us/step - loss: 2.3740e-04 - accuracy: 0.9999\n",
      "Epoch 106/150\n",
      "18834/18834 [==============================] - 0s 21us/step - loss: 2.2939e-04 - accuracy: 0.9999\n",
      "Epoch 107/150\n",
      "18834/18834 [==============================] - 0s 21us/step - loss: 2.1775e-04 - accuracy: 0.9999\n",
      "Epoch 108/150\n",
      "18834/18834 [==============================] - 0s 21us/step - loss: 2.1487e-04 - accuracy: 0.9999\n",
      "Epoch 109/150\n",
      "18834/18834 [==============================] - 0s 22us/step - loss: 2.1086e-04 - accuracy: 0.9999 0s - loss: 3.2564e-05 - ac\n",
      "Epoch 110/150\n",
      "18834/18834 [==============================] - 0s 21us/step - loss: 2.0060e-04 - accuracy: 0.9999\n",
      "Epoch 111/150\n",
      "18834/18834 [==============================] - 0s 21us/step - loss: 1.9403e-04 - accuracy: 0.9999\n",
      "Epoch 112/150\n",
      "18834/18834 [==============================] - 0s 22us/step - loss: 1.8877e-04 - accuracy: 0.9999\n",
      "Epoch 113/150\n",
      "18834/18834 [==============================] - 0s 21us/step - loss: 1.8395e-04 - accuracy: 0.9999\n",
      "Epoch 114/150\n",
      "18834/18834 [==============================] - 0s 21us/step - loss: 1.7670e-04 - accuracy: 0.9999\n",
      "Epoch 115/150\n",
      "18834/18834 [==============================] - 0s 21us/step - loss: 1.7056e-04 - accuracy: 0.9999\n",
      "Epoch 116/150\n",
      "18834/18834 [==============================] - 0s 21us/step - loss: 1.6054e-04 - accuracy: 0.9999\n",
      "Epoch 117/150\n",
      "18834/18834 [==============================] - 0s 21us/step - loss: 1.5518e-04 - accuracy: 0.9999\n",
      "Epoch 118/150\n",
      "18834/18834 [==============================] - 0s 21us/step - loss: 1.4871e-04 - accuracy: 0.9999\n",
      "Epoch 119/150\n",
      "18834/18834 [==============================] - 0s 21us/step - loss: 1.4279e-04 - accuracy: 0.9999\n",
      "Epoch 120/150\n",
      "18834/18834 [==============================] - 0s 21us/step - loss: 1.3504e-04 - accuracy: 0.9999\n",
      "Epoch 121/150\n",
      "18834/18834 [==============================] - 0s 21us/step - loss: 1.2743e-04 - accuracy: 0.9999\n",
      "Epoch 122/150\n",
      "18834/18834 [==============================] - 0s 25us/step - loss: 1.2176e-04 - accuracy: 0.9999\n",
      "Epoch 123/150\n",
      "18834/18834 [==============================] - 0s 21us/step - loss: 1.1450e-04 - accuracy: 0.9999\n",
      "Epoch 124/150\n",
      "18834/18834 [==============================] - 0s 21us/step - loss: 1.1023e-04 - accuracy: 1.0000\n",
      "Epoch 125/150\n",
      "18834/18834 [==============================] - 0s 21us/step - loss: 1.0577e-04 - accuracy: 0.9999\n",
      "Epoch 126/150\n",
      "18834/18834 [==============================] - 0s 21us/step - loss: 9.9604e-05 - accuracy: 1.0000\n",
      "Epoch 127/150\n",
      "18834/18834 [==============================] - 0s 26us/step - loss: 9.2081e-05 - accuracy: 0.9999\n",
      "Epoch 128/150\n",
      "18834/18834 [==============================] - 1s 29us/step - loss: 8.3386e-05 - accuracy: 1.0000\n",
      "Epoch 129/150\n",
      "18834/18834 [==============================] - 1s 30us/step - loss: 8.3835e-05 - accuracy: 1.0000\n",
      "Epoch 130/150\n",
      "18834/18834 [==============================] - 1s 30us/step - loss: 7.6259e-05 - accuracy: 1.0000\n",
      "Epoch 131/150\n",
      "18834/18834 [==============================] - 1s 29us/step - loss: 7.0217e-05 - accuracy: 1.0000\n",
      "Epoch 132/150\n",
      "18834/18834 [==============================] - 0s 21us/step - loss: 6.6431e-05 - accuracy: 1.0000\n",
      "Epoch 133/150\n",
      "18834/18834 [==============================] - 0s 22us/step - loss: 6.1084e-05 - accuracy: 1.0000\n",
      "Epoch 134/150\n",
      "18834/18834 [==============================] - 0s 21us/step - loss: 5.6044e-05 - accuracy: 1.0000\n",
      "Epoch 135/150\n",
      "18834/18834 [==============================] - 0s 22us/step - loss: 5.2968e-05 - accuracy: 1.0000\n",
      "Epoch 136/150\n",
      "18834/18834 [==============================] - 0s 21us/step - loss: 4.6350e-05 - accuracy: 1.0000\n",
      "Epoch 137/150\n",
      "18834/18834 [==============================] - 0s 21us/step - loss: 4.3504e-05 - accuracy: 1.0000\n",
      "Epoch 138/150\n",
      "18834/18834 [==============================] - 0s 21us/step - loss: 3.9922e-05 - accuracy: 1.0000\n",
      "Epoch 139/150\n",
      "18834/18834 [==============================] - 0s 21us/step - loss: 3.6348e-05 - accuracy: 1.0000\n",
      "Epoch 140/150\n",
      "18834/18834 [==============================] - 0s 22us/step - loss: 3.2744e-05 - accuracy: 1.0000\n",
      "Epoch 141/150\n",
      "18834/18834 [==============================] - 0s 21us/step - loss: 2.9336e-05 - accuracy: 1.0000\n",
      "Epoch 142/150\n",
      "18834/18834 [==============================] - 0s 21us/step - loss: 2.7049e-05 - accuracy: 1.0000\n",
      "Epoch 143/150\n",
      "18834/18834 [==============================] - 0s 21us/step - loss: 2.4411e-05 - accuracy: 1.0000\n",
      "Epoch 144/150\n",
      "18834/18834 [==============================] - 0s 21us/step - loss: 2.0709e-05 - accuracy: 1.0000\n",
      "Epoch 145/150\n",
      "18834/18834 [==============================] - 0s 21us/step - loss: 1.9980e-05 - accuracy: 1.0000\n",
      "Epoch 146/150\n",
      "18834/18834 [==============================] - 0s 21us/step - loss: 1.7882e-05 - accuracy: 1.0000\n",
      "Epoch 147/150\n"
     ]
    },
    {
     "name": "stdout",
     "output_type": "stream",
     "text": [
      "18834/18834 [==============================] - 0s 21us/step - loss: 1.6676e-05 - accuracy: 1.0000\n",
      "Epoch 148/150\n",
      "18834/18834 [==============================] - 0s 21us/step - loss: 1.4895e-05 - accuracy: 1.0000\n",
      "Epoch 149/150\n",
      "18834/18834 [==============================] - 0s 21us/step - loss: 1.3103e-05 - accuracy: 1.0000\n",
      "Epoch 150/150\n",
      "18834/18834 [==============================] - 0s 20us/step - loss: 1.2543e-05 - accuracy: 1.0000\n"
     ]
    },
    {
     "data": {
      "text/plain": [
       "(18834, 23)"
      ]
     },
     "execution_count": 25,
     "metadata": {},
     "output_type": "execute_result"
    }
   ],
   "source": [
    "for col in pet_train.columns:\n",
    "        if pet_train[col].dtype==object:\n",
    "            if pet_train[col].value_counts().count()>8:\n",
    "                #print (col,':',hs_train[col].value_counts().count())\n",
    "\n",
    "                dummy_data=pd.get_dummies(pet_train[col],prefix=col)\n",
    "                dummy_data.shape[1]\n",
    "\n",
    "                y=pd.get_dummies(pet_train[col],prefix=col)\n",
    "\n",
    "                embedding_dim=3\n",
    "                inputs=Input(shape=(dummy_data.shape[1],))\n",
    "                dense1=Dense(5,activation='relu')(inputs)\n",
    "                embedded_output=Dense(embedding_dim)(dense1)\n",
    "                outputs=Dense(dummy_data.shape[1],activation='softmax')(embedded_output)\n",
    "                model=Model(inputs=inputs,outputs=outputs)\n",
    "\n",
    "                embedder=Model(inputs=inputs,outputs=embedded_output)\n",
    "\n",
    "                model.compile(optimizer='adam',loss='categorical_crossentropy',metrics=['accuracy'])\n",
    "                model.fit(dummy_data,y,epochs=150,batch_size=100)\n",
    "\n",
    "                low_dim=pd.DataFrame(embedder.predict(dummy_data),columns=[col+'1',col+'2',col+'3'])\n",
    "                #low_dim.head()\n",
    "\n",
    "                pet_train=pd.concat([pet_train,low_dim],axis=1)\n",
    "                pet_train=pet_train.drop([col],axis=1)\n",
    "                \n",
    "pet_train.shape             \n"
   ]
  },
  {
   "cell_type": "code",
   "execution_count": 26,
   "metadata": {
    "scrolled": true
   },
   "outputs": [
    {
     "name": "stdout",
     "output_type": "stream",
     "text": [
      "Epoch 1/150\n",
      "8072/8072 [==============================] - 1s 89us/step - loss: 3.9319 - accuracy: 0.2821\n",
      "Epoch 2/150\n",
      "8072/8072 [==============================] - 0s 40us/step - loss: 3.7563 - accuracy: 0.3717\n",
      "Epoch 3/150\n",
      "8072/8072 [==============================] - 0s 41us/step - loss: 3.4178 - accuracy: 0.2410\n",
      "Epoch 4/150\n",
      "8072/8072 [==============================] - 0s 41us/step - loss: 2.8484 - accuracy: 0.2272\n",
      "Epoch 5/150\n",
      "8072/8072 [==============================] - 0s 40us/step - loss: 2.2850 - accuracy: 0.3116\n",
      "Epoch 6/150\n",
      "8072/8072 [==============================] - 0s 37us/step - loss: 1.9558 - accuracy: 0.4399\n",
      "Epoch 7/150\n",
      "8072/8072 [==============================] - 0s 39us/step - loss: 1.7608 - accuracy: 0.5393\n",
      "Epoch 8/150\n",
      "8072/8072 [==============================] - 0s 40us/step - loss: 1.6127 - accuracy: 0.5580\n",
      "Epoch 9/150\n",
      "8072/8072 [==============================] - 0s 41us/step - loss: 1.4869 - accuracy: 0.5580\n",
      "Epoch 10/150\n",
      "8072/8072 [==============================] - 0s 48us/step - loss: 1.3726 - accuracy: 0.5580 0s - loss: 1.4294 - ac\n",
      "Epoch 11/150\n",
      "8072/8072 [==============================] - 0s 44us/step - loss: 1.2668 - accuracy: 0.5580\n",
      "Epoch 12/150\n",
      "8072/8072 [==============================] - 0s 43us/step - loss: 1.1650 - accuracy: 0.6134\n",
      "Epoch 13/150\n",
      "8072/8072 [==============================] - 0s 39us/step - loss: 1.0642 - accuracy: 0.6689\n",
      "Epoch 14/150\n",
      "8072/8072 [==============================] - 0s 36us/step - loss: 0.9657 - accuracy: 0.7283\n",
      "Epoch 15/150\n",
      "8072/8072 [==============================] - 0s 38us/step - loss: 0.8749 - accuracy: 0.7552\n",
      "Epoch 16/150\n",
      "8072/8072 [==============================] - 0s 35us/step - loss: 0.7946 - accuracy: 0.7597\n",
      "Epoch 17/150\n",
      "8072/8072 [==============================] - 0s 35us/step - loss: 0.7247 - accuracy: 0.7759\n",
      "Epoch 18/150\n",
      "8072/8072 [==============================] - 0s 32us/step - loss: 0.6637 - accuracy: 0.7834\n",
      "Epoch 19/150\n",
      "8072/8072 [==============================] - 0s 36us/step - loss: 0.6088 - accuracy: 0.8053\n",
      "Epoch 20/150\n",
      "8072/8072 [==============================] - 0s 30us/step - loss: 0.5575 - accuracy: 0.8393\n",
      "Epoch 21/150\n",
      "8072/8072 [==============================] - 0s 29us/step - loss: 0.5077 - accuracy: 0.8622\n",
      "Epoch 22/150\n",
      "8072/8072 [==============================] - 0s 23us/step - loss: 0.4608 - accuracy: 0.8723\n",
      "Epoch 23/150\n",
      "8072/8072 [==============================] - 0s 26us/step - loss: 0.4185 - accuracy: 0.8734\n",
      "Epoch 24/150\n",
      "8072/8072 [==============================] - 0s 23us/step - loss: 0.3816 - accuracy: 0.8838\n",
      "Epoch 25/150\n",
      "8072/8072 [==============================] - 0s 23us/step - loss: 0.3498 - accuracy: 0.9010\n",
      "Epoch 26/150\n",
      "8072/8072 [==============================] - 0s 26us/step - loss: 0.3214 - accuracy: 0.9215\n",
      "Epoch 27/150\n",
      "8072/8072 [==============================] - 0s 22us/step - loss: 0.2958 - accuracy: 0.9215\n",
      "Epoch 28/150\n",
      "8072/8072 [==============================] - 0s 25us/step - loss: 0.2724 - accuracy: 0.9330\n",
      "Epoch 29/150\n",
      "8072/8072 [==============================] - 0s 23us/step - loss: 0.2507 - accuracy: 0.9403\n",
      "Epoch 30/150\n",
      "8072/8072 [==============================] - 0s 26us/step - loss: 0.2311 - accuracy: 0.9412\n",
      "Epoch 31/150\n",
      "8072/8072 [==============================] - 0s 25us/step - loss: 0.2133 - accuracy: 0.9472\n",
      "Epoch 32/150\n",
      "8072/8072 [==============================] - 0s 24us/step - loss: 0.1973 - accuracy: 0.9528\n",
      "Epoch 33/150\n",
      "8072/8072 [==============================] - 0s 25us/step - loss: 0.1832 - accuracy: 0.9580\n",
      "Epoch 34/150\n",
      "8072/8072 [==============================] - 0s 24us/step - loss: 0.1706 - accuracy: 0.9685\n",
      "Epoch 35/150\n",
      "8072/8072 [==============================] - 0s 23us/step - loss: 0.1595 - accuracy: 0.9689\n",
      "Epoch 36/150\n",
      "8072/8072 [==============================] - 0s 23us/step - loss: 0.1494 - accuracy: 0.9689\n",
      "Epoch 37/150\n",
      "8072/8072 [==============================] - 0s 25us/step - loss: 0.1403 - accuracy: 0.9692\n",
      "Epoch 38/150\n",
      "8072/8072 [==============================] - 0s 24us/step - loss: 0.1321 - accuracy: 0.9719\n",
      "Epoch 39/150\n",
      "8072/8072 [==============================] - 0s 26us/step - loss: 0.1247 - accuracy: 0.9719\n",
      "Epoch 40/150\n",
      "8072/8072 [==============================] - 0s 23us/step - loss: 0.1180 - accuracy: 0.9747\n",
      "Epoch 41/150\n",
      "8072/8072 [==============================] - 0s 31us/step - loss: 0.1122 - accuracy: 0.9755\n",
      "Epoch 42/150\n",
      "8072/8072 [==============================] - 0s 31us/step - loss: 0.1066 - accuracy: 0.9749\n",
      "Epoch 43/150\n",
      "8072/8072 [==============================] - 0s 28us/step - loss: 0.1017 - accuracy: 0.9755\n",
      "Epoch 44/150\n",
      "8072/8072 [==============================] - 0s 29us/step - loss: 0.0971 - accuracy: 0.9781\n",
      "Epoch 45/150\n",
      "8072/8072 [==============================] - 0s 29us/step - loss: 0.0929 - accuracy: 0.9810\n",
      "Epoch 46/150\n",
      "8072/8072 [==============================] - 0s 28us/step - loss: 0.0891 - accuracy: 0.9824\n",
      "Epoch 47/150\n",
      "8072/8072 [==============================] - 0s 24us/step - loss: 0.0853 - accuracy: 0.9824\n",
      "Epoch 48/150\n",
      "8072/8072 [==============================] - 0s 22us/step - loss: 0.0820 - accuracy: 0.9845\n",
      "Epoch 49/150\n",
      "8072/8072 [==============================] - 0s 21us/step - loss: 0.0786 - accuracy: 0.9839\n",
      "Epoch 50/150\n",
      "8072/8072 [==============================] - 0s 22us/step - loss: 0.0754 - accuracy: 0.9834\n",
      "Epoch 51/150\n",
      "8072/8072 [==============================] - 0s 22us/step - loss: 0.0726 - accuracy: 0.9845\n",
      "Epoch 52/150\n",
      "8072/8072 [==============================] - 0s 22us/step - loss: 0.0698 - accuracy: 0.9845\n",
      "Epoch 53/150\n",
      "8072/8072 [==============================] - 0s 22us/step - loss: 0.0671 - accuracy: 0.9845\n",
      "Epoch 54/150\n",
      "8072/8072 [==============================] - 0s 22us/step - loss: 0.0647 - accuracy: 0.9845\n",
      "Epoch 55/150\n",
      "8072/8072 [==============================] - 0s 21us/step - loss: 0.0623 - accuracy: 0.9845\n",
      "Epoch 56/150\n",
      "8072/8072 [==============================] - 0s 20us/step - loss: 0.0602 - accuracy: 0.9845\n",
      "Epoch 57/150\n",
      "8072/8072 [==============================] - 0s 20us/step - loss: 0.0581 - accuracy: 0.9845\n",
      "Epoch 58/150\n",
      "8072/8072 [==============================] - 0s 21us/step - loss: 0.0562 - accuracy: 0.9845\n",
      "Epoch 59/150\n",
      "8072/8072 [==============================] - 0s 19us/step - loss: 0.0544 - accuracy: 0.9845\n",
      "Epoch 60/150\n",
      "8072/8072 [==============================] - 0s 20us/step - loss: 0.0528 - accuracy: 0.9845\n",
      "Epoch 61/150\n",
      "8072/8072 [==============================] - 0s 19us/step - loss: 0.0512 - accuracy: 0.9845\n",
      "Epoch 62/150\n",
      "8072/8072 [==============================] - 0s 19us/step - loss: 0.0497 - accuracy: 0.9845\n",
      "Epoch 63/150\n",
      "8072/8072 [==============================] - 0s 19us/step - loss: 0.0482 - accuracy: 0.9854\n",
      "Epoch 64/150\n",
      "8072/8072 [==============================] - 0s 22us/step - loss: 0.0469 - accuracy: 0.9861\n",
      "Epoch 65/150\n",
      "8072/8072 [==============================] - 0s 20us/step - loss: 0.0456 - accuracy: 0.9861\n",
      "Epoch 66/150\n",
      "8072/8072 [==============================] - 0s 23us/step - loss: 0.0444 - accuracy: 0.9862\n",
      "Epoch 67/150\n",
      "8072/8072 [==============================] - 0s 23us/step - loss: 0.0433 - accuracy: 0.9869\n",
      "Epoch 68/150\n",
      "8072/8072 [==============================] - 0s 22us/step - loss: 0.0420 - accuracy: 0.9870\n",
      "Epoch 69/150\n",
      "8072/8072 [==============================] - 0s 21us/step - loss: 0.0410 - accuracy: 0.9871\n",
      "Epoch 70/150\n",
      "8072/8072 [==============================] - 0s 22us/step - loss: 0.0400 - accuracy: 0.9889\n",
      "Epoch 71/150\n",
      "8072/8072 [==============================] - 0s 22us/step - loss: 0.0389 - accuracy: 0.9890\n",
      "Epoch 72/150\n",
      "8072/8072 [==============================] - 0s 22us/step - loss: 0.0380 - accuracy: 0.9898\n",
      "Epoch 73/150\n",
      "8072/8072 [==============================] - 0s 21us/step - loss: 0.0370 - accuracy: 0.9898\n",
      "Epoch 74/150\n",
      "8072/8072 [==============================] - 0s 20us/step - loss: 0.0361 - accuracy: 0.9902\n",
      "Epoch 75/150\n",
      "8072/8072 [==============================] - 0s 21us/step - loss: 0.0351 - accuracy: 0.9905\n",
      "Epoch 76/150\n",
      "8072/8072 [==============================] - 0s 20us/step - loss: 0.0342 - accuracy: 0.9913\n",
      "Epoch 77/150\n",
      "8072/8072 [==============================] - 0s 19us/step - loss: 0.0333 - accuracy: 0.9908\n",
      "Epoch 78/150\n",
      "8072/8072 [==============================] - 0s 18us/step - loss: 0.0323 - accuracy: 0.9915\n",
      "Epoch 79/150\n",
      "8072/8072 [==============================] - 0s 18us/step - loss: 0.0316 - accuracy: 0.9929\n",
      "Epoch 80/150\n",
      "8072/8072 [==============================] - 0s 19us/step - loss: 0.0307 - accuracy: 0.9926\n",
      "Epoch 81/150\n",
      "8072/8072 [==============================] - 0s 19us/step - loss: 0.0298 - accuracy: 0.9932\n",
      "Epoch 82/150\n",
      "8072/8072 [==============================] - 0s 19us/step - loss: 0.0290 - accuracy: 0.9932\n",
      "Epoch 83/150\n",
      "8072/8072 [==============================] - 0s 19us/step - loss: 0.0281 - accuracy: 0.9937\n",
      "Epoch 84/150\n",
      "8072/8072 [==============================] - 0s 19us/step - loss: 0.0272 - accuracy: 0.9933\n",
      "Epoch 85/150\n",
      "8072/8072 [==============================] - 0s 21us/step - loss: 0.0265 - accuracy: 0.9937\n",
      "Epoch 86/150\n",
      "8072/8072 [==============================] - 0s 21us/step - loss: 0.0256 - accuracy: 0.9937\n",
      "Epoch 87/150\n",
      "8072/8072 [==============================] - 0s 23us/step - loss: 0.0249 - accuracy: 0.9937\n",
      "Epoch 88/150\n",
      "8072/8072 [==============================] - 0s 32us/step - loss: 0.0241 - accuracy: 0.9937\n",
      "Epoch 89/150\n",
      "8072/8072 [==============================] - 0s 29us/step - loss: 0.0234 - accuracy: 0.9937\n",
      "Epoch 90/150\n",
      "8072/8072 [==============================] - 0s 30us/step - loss: 0.0227 - accuracy: 0.9937\n",
      "Epoch 91/150\n",
      "8072/8072 [==============================] - 0s 27us/step - loss: 0.0220 - accuracy: 0.9944\n",
      "Epoch 92/150\n",
      "8072/8072 [==============================] - 0s 28us/step - loss: 0.0214 - accuracy: 0.9937\n",
      "Epoch 93/150\n",
      "8072/8072 [==============================] - 0s 29us/step - loss: 0.0207 - accuracy: 0.9944\n",
      "Epoch 94/150\n",
      "8072/8072 [==============================] - 0s 32us/step - loss: 0.0202 - accuracy: 0.9942\n",
      "Epoch 95/150\n",
      "8072/8072 [==============================] - 0s 27us/step - loss: 0.0195 - accuracy: 0.9952\n",
      "Epoch 96/150\n",
      "8072/8072 [==============================] - 0s 29us/step - loss: 0.0190 - accuracy: 0.9942\n",
      "Epoch 97/150\n",
      "8072/8072 [==============================] - 0s 27us/step - loss: 0.0185 - accuracy: 0.9950\n",
      "Epoch 98/150\n",
      "8072/8072 [==============================] - 0s 31us/step - loss: 0.0180 - accuracy: 0.9948\n",
      "Epoch 99/150\n",
      "8072/8072 [==============================] - 0s 29us/step - loss: 0.0174 - accuracy: 0.9952\n",
      "Epoch 100/150\n",
      "8072/8072 [==============================] - 0s 26us/step - loss: 0.0169 - accuracy: 0.9953\n",
      "Epoch 101/150\n",
      "8072/8072 [==============================] - 0s 20us/step - loss: 0.0164 - accuracy: 0.9953\n",
      "Epoch 102/150\n",
      "8072/8072 [==============================] - 0s 20us/step - loss: 0.0159 - accuracy: 0.9963\n",
      "Epoch 103/150\n",
      "8072/8072 [==============================] - 0s 20us/step - loss: 0.0155 - accuracy: 0.9958\n",
      "Epoch 104/150\n",
      "8072/8072 [==============================] - 0s 20us/step - loss: 0.0150 - accuracy: 0.9967\n",
      "Epoch 105/150\n",
      "8072/8072 [==============================] - 0s 20us/step - loss: 0.0146 - accuracy: 0.9967\n",
      "Epoch 106/150\n",
      "8072/8072 [==============================] - 0s 21us/step - loss: 0.0141 - accuracy: 0.9969\n",
      "Epoch 107/150\n",
      "8072/8072 [==============================] - 0s 21us/step - loss: 0.0136 - accuracy: 0.9970\n",
      "Epoch 108/150\n",
      "8072/8072 [==============================] - 0s 22us/step - loss: 0.0133 - accuracy: 0.9969\n",
      "Epoch 109/150\n",
      "8072/8072 [==============================] - 0s 22us/step - loss: 0.0128 - accuracy: 0.9975\n",
      "Epoch 110/150\n",
      "8072/8072 [==============================] - 0s 21us/step - loss: 0.0124 - accuracy: 0.9980 0s - loss: 0.0117 - accuracy: 0.\n",
      "Epoch 111/150\n",
      "8072/8072 [==============================] - 0s 22us/step - loss: 0.0121 - accuracy: 0.9976\n",
      "Epoch 112/150\n",
      "8072/8072 [==============================] - 0s 22us/step - loss: 0.0116 - accuracy: 0.9983\n",
      "Epoch 113/150\n",
      "8072/8072 [==============================] - 0s 21us/step - loss: 0.0113 - accuracy: 0.9980\n",
      "Epoch 114/150\n",
      "8072/8072 [==============================] - 0s 22us/step - loss: 0.0109 - accuracy: 0.9984\n",
      "Epoch 115/150\n",
      "8072/8072 [==============================] - 0s 22us/step - loss: 0.0104 - accuracy: 0.9986\n",
      "Epoch 116/150\n",
      "8072/8072 [==============================] - 0s 22us/step - loss: 0.0101 - accuracy: 0.9986\n",
      "Epoch 117/150\n",
      "8072/8072 [==============================] - 0s 21us/step - loss: 0.0097 - accuracy: 0.9986\n",
      "Epoch 118/150\n",
      "8072/8072 [==============================] - 0s 30us/step - loss: 0.0094 - accuracy: 0.9989\n",
      "Epoch 119/150\n",
      "8072/8072 [==============================] - 0s 29us/step - loss: 0.0091 - accuracy: 0.9985\n",
      "Epoch 120/150\n",
      "8072/8072 [==============================] - 0s 29us/step - loss: 0.0087 - accuracy: 0.9986\n",
      "Epoch 121/150\n",
      "8072/8072 [==============================] - 0s 30us/step - loss: 0.0085 - accuracy: 0.9986 0s - loss: 0.0089 - accuracy: 0.\n",
      "Epoch 122/150\n",
      "8072/8072 [==============================] - 0s 28us/step - loss: 0.0081 - accuracy: 0.9988\n",
      "Epoch 123/150\n",
      "8072/8072 [==============================] - 0s 24us/step - loss: 0.0078 - accuracy: 0.9988\n",
      "Epoch 124/150\n",
      "8072/8072 [==============================] - 0s 25us/step - loss: 0.0076 - accuracy: 0.9989\n",
      "Epoch 125/150\n",
      "8072/8072 [==============================] - 0s 21us/step - loss: 0.0073 - accuracy: 0.9988\n",
      "Epoch 126/150\n",
      "8072/8072 [==============================] - 0s 22us/step - loss: 0.0070 - accuracy: 0.9990\n",
      "Epoch 127/150\n",
      "8072/8072 [==============================] - 0s 23us/step - loss: 0.0067 - accuracy: 0.9989\n",
      "Epoch 128/150\n",
      "8072/8072 [==============================] - 0s 21us/step - loss: 0.0065 - accuracy: 0.9993\n",
      "Epoch 129/150\n",
      "8072/8072 [==============================] - 0s 22us/step - loss: 0.0062 - accuracy: 0.9991\n",
      "Epoch 130/150\n",
      "8072/8072 [==============================] - 0s 22us/step - loss: 0.0060 - accuracy: 0.9989\n",
      "Epoch 131/150\n",
      "8072/8072 [==============================] - 0s 22us/step - loss: 0.0058 - accuracy: 0.9994\n",
      "Epoch 132/150\n",
      "8072/8072 [==============================] - 0s 24us/step - loss: 0.0056 - accuracy: 0.9994\n",
      "Epoch 133/150\n",
      "8072/8072 [==============================] - ETA: 0s - loss: 0.0055 - accuracy: 0.99 - 0s 24us/step - loss: 0.0054 - accuracy: 0.9989\n",
      "Epoch 134/150\n",
      "8072/8072 [==============================] - 0s 22us/step - loss: 0.0052 - accuracy: 0.9994\n",
      "Epoch 135/150\n",
      "8072/8072 [==============================] - 0s 23us/step - loss: 0.0049 - accuracy: 0.9991\n",
      "Epoch 136/150\n",
      "8072/8072 [==============================] - 0s 22us/step - loss: 0.0048 - accuracy: 0.9994\n",
      "Epoch 137/150\n",
      "8072/8072 [==============================] - 0s 23us/step - loss: 0.0046 - accuracy: 0.9993\n",
      "Epoch 138/150\n",
      "8072/8072 [==============================] - 0s 23us/step - loss: 0.0044 - accuracy: 0.9994\n",
      "Epoch 139/150\n",
      "8072/8072 [==============================] - 0s 21us/step - loss: 0.0042 - accuracy: 0.9994\n",
      "Epoch 140/150\n",
      "8072/8072 [==============================] - 0s 21us/step - loss: 0.0041 - accuracy: 0.9994\n",
      "Epoch 141/150\n",
      "8072/8072 [==============================] - 0s 23us/step - loss: 0.0039 - accuracy: 0.9994\n",
      "Epoch 142/150\n",
      "8072/8072 [==============================] - 0s 23us/step - loss: 0.0037 - accuracy: 0.9994\n",
      "Epoch 143/150\n",
      "8072/8072 [==============================] - 0s 23us/step - loss: 0.0036 - accuracy: 0.9996\n",
      "Epoch 144/150\n",
      "8072/8072 [==============================] - 0s 23us/step - loss: 0.0035 - accuracy: 0.9996\n",
      "Epoch 145/150\n",
      "8072/8072 [==============================] - 0s 23us/step - loss: 0.0033 - accuracy: 0.9995\n",
      "Epoch 146/150\n",
      "8072/8072 [==============================] - 0s 22us/step - loss: 0.0032 - accuracy: 0.9995\n",
      "Epoch 147/150\n",
      "8072/8072 [==============================] - 0s 22us/step - loss: 0.0031 - accuracy: 0.9998\n",
      "Epoch 148/150\n",
      "8072/8072 [==============================] - 0s 23us/step - loss: 0.0029 - accuracy: 0.9995A: 0s - loss: 0.0026 - accuracy: 0.99\n",
      "Epoch 149/150\n",
      "8072/8072 [==============================] - 0s 28us/step - loss: 0.0029 - accuracy: 0.9998\n",
      "Epoch 150/150\n",
      "8072/8072 [==============================] - 0s 24us/step - loss: 0.0027 - accuracy: 0.9998\n"
     ]
    },
    {
     "data": {
      "text/plain": [
       "(8072, 21)"
      ]
     },
     "execution_count": 26,
     "metadata": {},
     "output_type": "execute_result"
    }
   ],
   "source": [
    "for col in pet_test.columns:\n",
    "        if pet_test[col].dtype==object:\n",
    "            if pet_test[col].value_counts().count()>8:\n",
    "                #print (col,':',hs_train[col].value_counts().count())\n",
    "\n",
    "                dummy_data=pd.get_dummies(pet_test[col],prefix=col)\n",
    "                dummy_data.shape[1]\n",
    "\n",
    "                y=pd.get_dummies(pet_test[col],prefix=col)\n",
    "\n",
    "                embedding_dim=3\n",
    "                inputs=Input(shape=(dummy_data.shape[1],))\n",
    "                dense1=Dense(5,activation='relu')(inputs)\n",
    "                embedded_output=Dense(embedding_dim)(dense1)\n",
    "                outputs=Dense(dummy_data.shape[1],activation='softmax')(embedded_output)\n",
    "                model=Model(inputs=inputs,outputs=outputs)\n",
    "\n",
    "                embedder=Model(inputs=inputs,outputs=embedded_output)\n",
    "\n",
    "                model.compile(optimizer='adam',loss='categorical_crossentropy',metrics=['accuracy'])\n",
    "                model.fit(dummy_data,y,epochs=150,batch_size=100)\n",
    "\n",
    "                low_dim=pd.DataFrame(embedder.predict(dummy_data),columns=[col+'1',col+'2',col+'3'])\n",
    "                #low_dim.head()\n",
    "\n",
    "                pet_test=pd.concat([pet_test,low_dim],axis=1)\n",
    "                pet_test=pet_test.drop([col],axis=1)\n",
    "                \n",
    "pet_test.shape             \n"
   ]
  },
  {
   "cell_type": "code",
   "execution_count": 19,
   "metadata": {},
   "outputs": [
    {
     "data": {
      "text/plain": [
       "condition         0\n",
       "length(m)         0\n",
       "height(cm)        0\n",
       "X1                0\n",
       "X2                0\n",
       "breed_category    0\n",
       "pet_category      0\n",
       "color_type1       0\n",
       "color_type2       0\n",
       "color_type3       0\n",
       "dtype: int64"
      ]
     },
     "execution_count": 19,
     "metadata": {},
     "output_type": "execute_result"
    }
   ],
   "source": [
    "pet_train.isnull().sum()"
   ]
  },
  {
   "cell_type": "code",
   "execution_count": 20,
   "metadata": {},
   "outputs": [
    {
     "data": {
      "text/plain": [
       "condition      0\n",
       "length(m)      0\n",
       "height(cm)     0\n",
       "X1             0\n",
       "X2             0\n",
       "color_type1    0\n",
       "color_type2    0\n",
       "color_type3    0\n",
       "dtype: int64"
      ]
     },
     "execution_count": 20,
     "metadata": {},
     "output_type": "execute_result"
    }
   ],
   "source": [
    "pet_test.isnull().sum()"
   ]
  },
  {
   "cell_type": "code",
   "execution_count": null,
   "metadata": {},
   "outputs": [],
   "source": []
  },
  {
   "cell_type": "markdown",
   "metadata": {},
   "source": [
    "Handeling NULL data"
   ]
  },
  {
   "cell_type": "code",
   "execution_count": 21,
   "metadata": {
    "scrolled": true
   },
   "outputs": [
    {
     "data": {
      "text/plain": [
       " 1.0    6819\n",
       " 0.0    6281\n",
       " 2.0    4257\n",
       "-1.0    1477\n",
       "Name: condition, dtype: int64"
      ]
     },
     "execution_count": 21,
     "metadata": {},
     "output_type": "execute_result"
    }
   ],
   "source": [
    "pet_train['condition'].value_counts()"
   ]
  },
  {
   "cell_type": "code",
   "execution_count": 22,
   "metadata": {},
   "outputs": [
    {
     "data": {
      "text/plain": [
       " 1.0    2933\n",
       " 0.0    2704\n",
       " 2.0    1818\n",
       "-1.0     617\n",
       "Name: condition, dtype: int64"
      ]
     },
     "execution_count": 22,
     "metadata": {},
     "output_type": "execute_result"
    }
   ],
   "source": [
    "pet_test['condition'].value_counts()"
   ]
  },
  {
   "cell_type": "code",
   "execution_count": 10,
   "metadata": {},
   "outputs": [
    {
     "data": {
      "text/plain": [
       "1477"
      ]
     },
     "execution_count": 10,
     "metadata": {},
     "output_type": "execute_result"
    }
   ],
   "source": [
    "pet_train[pet_train['breed_category']==2].condition.isnull().sum()"
   ]
  },
  {
   "cell_type": "code",
   "execution_count": null,
   "metadata": {},
   "outputs": [],
   "source": [
    "pet_test[pet_test['bree']]"
   ]
  },
  {
   "cell_type": "code",
   "execution_count": 10,
   "metadata": {},
   "outputs": [],
   "source": [
    "pet_train['condition'] = pet_train['condition'].fillna(-1)\n",
    "pet_test['condition']= pet_train['condition'].fillna(-1)"
   ]
  },
  {
   "cell_type": "code",
   "execution_count": 13,
   "metadata": {
    "scrolled": true
   },
   "outputs": [
    {
     "name": "stdout",
     "output_type": "stream",
     "text": [
      "[[  2.           0.8          7.78       ... -29.92289162 -71.8390274\n",
      "   -2.41538286]\n",
      " [  1.           0.72        14.19       ...  58.08573151   8.04533863\n",
      "  -16.03520203]\n",
      " [  1.33333333   0.15        40.9        ...  29.78919029   8.19804001\n",
      "  -36.30708313]\n",
      " ...\n",
      " [  0.           0.99        28.13       ...  13.11381245 -24.7094593\n",
      "   48.78696442]\n",
      " [  0.           0.55        44.82       ...  38.36296082  36.76091385\n",
      "  -22.16752625]\n",
      " [  0.           0.86        37.4        ...  29.78919029   8.19804001\n",
      "  -36.30708313]]\n"
     ]
    }
   ],
   "source": []
  },
  {
   "cell_type": "code",
   "execution_count": 27,
   "metadata": {},
   "outputs": [],
   "source": [
    "pet_train.loc[pet_train['condition'].isnull(),'condition']=pet_train.loc[pet_train['condition']==2,'condition'].mean()"
   ]
  },
  {
   "cell_type": "code",
   "execution_count": 28,
   "metadata": {},
   "outputs": [],
   "source": [
    "pet_test.loc[pet_test['condition'].isnull(),'condition']=pet_test.loc[pet_test['condition']==2,'condition'].mean()"
   ]
  },
  {
   "cell_type": "code",
   "execution_count": 29,
   "metadata": {},
   "outputs": [],
   "source": [
    "pet_train.reset_index(drop=True,inplace=True)\n",
    "pet_test.reset_index(drop=True,inplace=True)"
   ]
  },
  {
   "cell_type": "code",
   "execution_count": 30,
   "metadata": {},
   "outputs": [],
   "source": [
    "x_train=pet_train.drop(['breed_category','pet_category'],axis=1)\n",
    "x_train_breed=pet_train.drop('breed_category',axis=1)\n",
    "x_train_pet=pet_train.drop('pet_category',axis=1)\n",
    "y_train_breed=pet_train['breed_category']\n",
    "y_train_pet=pet_train['pet_category']"
   ]
  },
  {
   "cell_type": "code",
   "execution_count": null,
   "metadata": {},
   "outputs": [],
   "source": []
  },
  {
   "cell_type": "code",
   "execution_count": 31,
   "metadata": {},
   "outputs": [],
   "source": [
    "x_test=pet_test"
   ]
  },
  {
   "cell_type": "code",
   "execution_count": 32,
   "metadata": {},
   "outputs": [
    {
     "name": "stdout",
     "output_type": "stream",
     "text": [
      "(18834, 21) (8072, 21)\n"
     ]
    }
   ],
   "source": [
    "print(x_train.shape,x_test.shape)"
   ]
  },
  {
   "cell_type": "code",
   "execution_count": 33,
   "metadata": {},
   "outputs": [],
   "source": [
    "X=x_train\n",
    "y=y_train_breed"
   ]
  },
  {
   "cell_type": "markdown",
   "metadata": {},
   "source": [
    "Feature engineering\n"
   ]
  },
  {
   "cell_type": "code",
   "execution_count": 34,
   "metadata": {},
   "outputs": [
    {
     "data": {
      "text/plain": [
       "ExtraTreesClassifier()"
      ]
     },
     "execution_count": 34,
     "metadata": {},
     "output_type": "execute_result"
    }
   ],
   "source": [
    "from sklearn.ensemble import ExtraTreesClassifier\n",
    "import matplotlib.pyplot as plt\n",
    "model = ExtraTreesClassifier()\n",
    "model.fit(X,y)"
   ]
  },
  {
   "cell_type": "code",
   "execution_count": 35,
   "metadata": {},
   "outputs": [
    {
     "data": {
      "image/png": "[encoded data removed]",
      "text/plain": [
       "<Figure size 432x288 with 1 Axes>"
      ]
     },
     "metadata": {
      "needs_background": "light"
     },
     "output_type": "display_data"
    }
   ],
   "source": [
    "#plot graph of feature importances for better visualization\n",
    "feat_importances = pd.Series(model.feature_importances_, index=X.columns)\n",
    "feat_importances.nlargest(21).plot(kind='barh')\n",
    "plt.show()"
   ]
  },
  {
   "cell_type": "code",
   "execution_count": 36,
   "metadata": {},
   "outputs": [],
   "source": [
    "%matplotlib inline\n",
    "import warnings\n",
    "warnings.filterwarnings('ignore')\n",
    "import matplotlib.pyplot as plt\n",
    "plt.style.use('ggplot')"
   ]
  },
  {
   "cell_type": "code",
   "execution_count": null,
   "metadata": {},
   "outputs": [],
   "source": []
  },
  {
   "cell_type": "code",
   "execution_count": 37,
   "metadata": {},
   "outputs": [],
   "source": [
    "from skater.core.explanations import Interpretation\n",
    "from skater.model import InMemoryModel\n",
    "from sklearn.ensemble import RandomForestClassifier"
   ]
  },
  {
   "cell_type": "code",
   "execution_count": 38,
   "metadata": {},
   "outputs": [],
   "source": [
    "rf=RandomForestClassifier(**{'criterion': 'entropy', 'max_depth': 50, 'max_features':18, 'n_estimators': 2500},n_jobs=-1)"
   ]
  },
  {
   "cell_type": "code",
   "execution_count": 39,
   "metadata": {},
   "outputs": [
    {
     "data": {
      "text/plain": [
       "RandomForestClassifier(criterion='entropy', max_depth=50, max_features=18,\n",
       "                       n_estimators=2500, n_jobs=-1)"
      ]
     },
     "execution_count": 39,
     "metadata": {},
     "output_type": "execute_result"
    }
   ],
   "source": [
    "rf.fit(X,y)"
   ]
  },
  {
   "cell_type": "code",
   "execution_count": 40,
   "metadata": {},
   "outputs": [
    {
     "name": "stdout",
     "output_type": "stream",
     "text": [
      "[21/21] features ████████████████████ Time elapsed: 82 seconds"
     ]
    },
    {
     "data": {
      "image/png": "[encoded data removed]",
      "text/plain": [
       "<Figure size 432x288 with 1 Axes>"
      ]
     },
     "metadata": {},
     "output_type": "display_data"
    }
   ],
   "source": [
    "interpreter = Interpretation(X, feature_names=X.columns)\n",
    "model = InMemoryModel(rf.predict_proba, examples=X)\n",
    "plots = interpreter.feature_importance.plot_feature_importance(model, ascending=True)"
   ]
  },
  {
   "cell_type": "code",
   "execution_count": 41,
   "metadata": {},
   "outputs": [
    {
     "data": {
      "text/plain": [
       "array([0., 1., 2.])"
      ]
     },
     "execution_count": 41,
     "metadata": {},
     "output_type": "execute_result"
    }
   ],
   "source": [
    "rf.classes_"
   ]
  },
  {
   "cell_type": "code",
   "execution_count": 42,
   "metadata": {},
   "outputs": [
    {
     "name": "stdout",
     "output_type": "stream",
     "text": [
      "[3/3] grid cells ████████████████████ Time elapsed: 38 seconds"
     ]
    },
    {
     "data": {
      "image/png": "[encoded data removed]",
      "text/plain": [
       "<Figure size 720x360 with 1 Axes>"
      ]
     },
     "metadata": {},
     "output_type": "display_data"
    },
    {
     "data": {
      "image/png": "[encoded data removed]",
      "text/plain": [
       "<Figure size 720x360 with 1 Axes>"
      ]
     },
     "metadata": {},
     "output_type": "display_data"
    },
    {
     "data": {
      "image/png": "[encoded data removed]",
      "text/plain": [
       "<Figure size 720x360 with 1 Axes>"
      ]
     },
     "metadata": {},
     "output_type": "display_data"
    }
   ],
   "source": [
    "pyint_model = InMemoryModel(rf.predict_proba, examples=X, target_names=['Y_0','Y_1','Y_2'])\n",
    "axes_list = interpreter.partial_dependence.plot_partial_dependence(['condition'],\n",
    "                                                                   pyint_model, \n",
    "                                                                   grid_resolution=30, \n",
    "                                                                   with_variance=True,\n",
    "                                                                   figsize = (10, 5))"
   ]
  },
  {
   "cell_type": "code",
   "execution_count": 58,
   "metadata": {},
   "outputs": [
    {
     "name": "stdout",
     "output_type": "stream",
     "text": [
      "[30/30] grid cells ████████████████████ Time elapsed: 22 seconds"
     ]
    },
    {
     "data": {
      "image/png": "[encoded data removed]",
      "text/plain": [
       "<Figure size 720x360 with 1 Axes>"
      ]
     },
     "metadata": {},
     "output_type": "display_data"
    },
    {
     "data": {
      "image/png": "[encoded data removed]",
      "text/plain": [
       "<Figure size 720x360 with 1 Axes>"
      ]
     },
     "metadata": {},
     "output_type": "display_data"
    },
    {
     "data": {
      "image/png": "[encoded data removed]",
      "text/plain": [
       "<Figure size 720x360 with 1 Axes>"
      ]
     },
     "metadata": {},
     "output_type": "display_data"
    }
   ],
   "source": [
    "axes_list = interpreter.partial_dependence.plot_partial_dependence(['day_diff'],\n",
    "                                                                   pyint_model, \n",
    "                                                                   grid_resolution=30, \n",
    "                                                                   with_variance=True,\n",
    "                                                                   figsize = (10, 5))"
   ]
  },
  {
   "cell_type": "code",
   "execution_count": 61,
   "metadata": {
    "scrolled": false
   },
   "outputs": [
    {
     "name": "stdout",
     "output_type": "stream",
     "text": [
      "[12/12] grid cells ████████████████████ Time elapsed: 14 seconds"
     ]
    },
    {
     "data": {
      "text/plain": [
       "[[<Figure size 1152x720 with 2 Axes>,\n",
       "  <Figure size 1152x720 with 2 Axes>,\n",
       "  <Figure size 1152x720 with 2 Axes>,\n",
       "  <Axes3DSubplot:xlabel='X1', ylabel='X2'>,\n",
       "  <Axes3DSubplot:xlabel='X1', ylabel='X2'>,\n",
       "  <Axes3DSubplot:xlabel='X1', ylabel='X2'>]]"
      ]
     },
     "execution_count": 61,
     "metadata": {},
     "output_type": "execute_result"
    },
    {
     "data": {
      "image/png": "[encoded data removed]",
      "text/plain": [
       "<Figure size 1152x720 with 2 Axes>"
      ]
     },
     "metadata": {},
     "output_type": "display_data"
    },
    {
     "data": {
      "image/png": "[encoded data removed]",
      "text/plain": [
       "<Figure size 1152x720 with 2 Axes>"
      ]
     },
     "metadata": {},
     "output_type": "display_data"
    },
    {
     "data": {
      "image/png": "[encoded data removed]",
      "text/plain": [
       "<Figure size 1152x720 with 2 Axes>"
      ]
     },
     "metadata": {},
     "output_type": "display_data"
    }
   ],
   "source": [
    "model = InMemoryModel(rf.predict_proba, examples=X, target_names=['Y_0', 'Y_1','Y_2'])\n",
    "interpreter.partial_dependence.plot_partial_dependence([('X1', 'X2')], model, \n",
    "                                                       grid_resolution=10)"
   ]
  },
  {
   "cell_type": "code",
   "execution_count": 21,
   "metadata": {},
   "outputs": [],
   "source": [
    "from sklearn.preprocessing import StandardScaler\n",
    "# Standarize features\n",
    "scaler = StandardScaler()\n",
    "x_train_std = scaler.fit_transform(X)"
   ]
  },
  {
   "cell_type": "code",
   "execution_count": null,
   "metadata": {},
   "outputs": [],
   "source": []
  },
  {
   "cell_type": "markdown",
   "metadata": {},
   "source": [
    "SVC - for Breed catagory"
   ]
  },
  {
   "cell_type": "code",
   "execution_count": 38,
   "metadata": {},
   "outputs": [
    {
     "data": {
      "text/plain": [
       "array([0., 1., 1., ..., 1., 1., 1.])"
      ]
     },
     "execution_count": 38,
     "metadata": {},
     "output_type": "execute_result"
    }
   ],
   "source": [
    "y_pred_breed_cat"
   ]
  },
  {
   "cell_type": "code",
   "execution_count": 31,
   "metadata": {},
   "outputs": [
    {
     "data": {
      "text/plain": [
       "0.0    9000\n",
       "1.0    8357\n",
       "2.0    1477\n",
       "Name: breed_category, dtype: int64"
      ]
     },
     "execution_count": 31,
     "metadata": {},
     "output_type": "execute_result"
    }
   ],
   "source": [
    "y_train1.value_counts()"
   ]
  },
  {
   "cell_type": "code",
   "execution_count": 32,
   "metadata": {
    "scrolled": true
   },
   "outputs": [
    {
     "data": {
      "text/plain": [
       "2    10621\n",
       "1     7184\n",
       "4      941\n",
       "0       88\n",
       "Name: pet_category, dtype: int64"
      ]
     },
     "execution_count": 32,
     "metadata": {},
     "output_type": "execute_result"
    }
   ],
   "source": [
    "y_train2.value_counts()"
   ]
  },
  {
   "cell_type": "code",
   "execution_count": 64,
   "metadata": {},
   "outputs": [],
   "source": [
    "# Parameter Optimisation with Hyperopt-checkpoint -XGB`"
   ]
  },
  {
   "cell_type": "code",
   "execution_count": null,
   "metadata": {
    "scrolled": true
   },
   "outputs": [],
   "source": []
  },
  {
   "cell_type": "code",
   "execution_count": 49,
   "metadata": {},
   "outputs": [],
   "source": [
    "from sklearn.multiclass import OneVsRestClassifier\n",
    "from sklearn.svm import SVC\n",
    "from xgboost.sklearn import XGBClassifier\n",
    "from sklearn.ensemble import ExtraTreesClassifier,RandomForestClassifier"
   ]
  },
  {
   "cell_type": "code",
   "execution_count": null,
   "metadata": {},
   "outputs": [],
   "source": []
  },
  {
   "cell_type": "code",
   "execution_count": 43,
   "metadata": {},
   "outputs": [],
   "source": [
    "from sklearn.model_selection import train_test_split\n",
    "from hyperopt import fmin, tpe, hp, STATUS_OK, Trials\n",
    "from sklearn.model_selection import cross_val_score"
   ]
  },
  {
   "cell_type": "code",
   "execution_count": 44,
   "metadata": {
    "scrolled": true
   },
   "outputs": [],
   "source": [
    "x_train,x_test,y_train,y_test=train_test_split(x_train,y_train_breed,test_size=0.2)"
   ]
  },
  {
   "cell_type": "code",
   "execution_count": 51,
   "metadata": {},
   "outputs": [],
   "source": [
    "def acc_model(params):\n",
    "    XGB = XGBClassifier(**params)\n",
    "    return cross_val_score(XGB, x_train, y_train).mean()"
   ]
  },
  {
   "cell_type": "code",
   "execution_count": 46,
   "metadata": {},
   "outputs": [],
   "source": [
    "param_space = {\n",
    "    'max_depth': hp.choice('max_depth', range(1,50)),\n",
    "    \n",
    "    'n_estimators': hp.choice('n_estimators', range(100,5000)),\n",
    "    \n",
    "    \n",
    "    'min_child_weight': hp.choice('min_child_weight',range(1,15)),\n",
    "    'max_delta_step': hp.choice('max_delta_step',range(1,15))\n",
    "    \n",
    "\n",
    "}"
   ]
  },
  {
   "cell_type": "code",
   "execution_count": 47,
   "metadata": {},
   "outputs": [],
   "source": [
    "best = 0\n",
    "def f(params):\n",
    "    global best\n",
    "    acc = acc_model(params)\n",
    "    if acc > best:\n",
    "        best = acc\n",
    "    print ('new best:', best, params)\n",
    "    return {'loss': -acc, 'status': STATUS_OK}"
   ]
  },
  {
   "cell_type": "code",
   "execution_count": 52,
   "metadata": {
    "scrolled": true
   },
   "outputs": [
    {
     "name": "stdout",
     "output_type": "stream",
     "text": [
      "new best:                                             \n",
      "0.8680557002381409                                    \n",
      "{'max_delta_step': 12, 'max_depth': 15, 'min_child_weight': 14, 'n_estimators': 1476}\n",
      "new best:                                                                         \n",
      "0.8680557002381409                                                                \n",
      "{'max_delta_step': 9, 'max_depth': 34, 'min_child_weight': 14, 'n_estimators': 2426}\n",
      "new best:                                                                         \n",
      "0.8680557002381409                                                                \n",
      "{'max_delta_step': 14, 'max_depth': 10, 'min_child_weight': 11, 'n_estimators': 3493}\n",
      "new best:                                                                         \n",
      "0.8705781472059474                                                                \n",
      "{'max_delta_step': 14, 'max_depth': 26, 'min_child_weight': 1, 'n_estimators': 2506}\n",
      "new best:                                                                         \n",
      "0.8705781472059474                                                                \n",
      "{'max_delta_step': 7, 'max_depth': 11, 'min_child_weight': 5, 'n_estimators': 2027}\n",
      "new best:                                                                         \n",
      "0.8705781472059474                                                                \n",
      "{'max_delta_step': 3, 'max_depth': 48, 'min_child_weight': 11, 'n_estimators': 3266}\n",
      "new best:                                                                         \n",
      "0.8705781472059474                                                                \n",
      "{'max_delta_step': 6, 'max_depth': 49, 'min_child_weight': 8, 'n_estimators': 1162}\n",
      "new best:                                                                         \n",
      "0.8705781472059474                                                                \n",
      "{'max_delta_step': 10, 'max_depth': 23, 'min_child_weight': 7, 'n_estimators': 3455}\n",
      "new best:                                                                         \n",
      "0.8705781472059474                                                                  \n",
      "{'max_delta_step': 6, 'max_depth': 17, 'min_child_weight': 2, 'n_estimators': 4346} \n",
      "new best:                                                                           \n",
      "0.8705781472059474                                                                  \n",
      "{'max_delta_step': 1, 'max_depth': 10, 'min_child_weight': 9, 'n_estimators': 402}  \n",
      "100%|██████████| 10/10 [1:11:20<00:00, 428.03s/trial, best loss: -0.8705781472059474]\n",
      "best:\n",
      "{'max_delta_step': 13, 'max_depth': 25, 'min_child_weight': 0, 'n_estimators': 2406}\n"
     ]
    }
   ],
   "source": [
    "trials = Trials()\n",
    "best = fmin(f, param_space, algo=tpe.suggest, max_evals=10, trials=trials)\n",
    "print ('best:')\n",
    "print (best)"
   ]
  },
  {
   "cell_type": "code",
   "execution_count": null,
   "metadata": {},
   "outputs": [],
   "source": []
  },
  {
   "cell_type": "code",
   "execution_count": null,
   "metadata": {},
   "outputs": [],
   "source": [
    "# parameter optimization for RandomForest"
   ]
  },
  {
   "cell_type": "code",
   "execution_count": 80,
   "metadata": {},
   "outputs": [],
   "source": [
    "def acc_model(params):\n",
    "    clf = ExtraTreesClassifier(**params)\n",
    "    return cross_val_score(clf, x_train, y_train).mean()"
   ]
  },
  {
   "cell_type": "code",
   "execution_count": 81,
   "metadata": {},
   "outputs": [],
   "source": [
    "param_space = {\n",
    "    'max_depth': hp.choice('max_depth', range(1,50)),\n",
    "    'max_features': hp.choice('max_features', range(1,16)),\n",
    "    'n_estimators': hp.choice('n_estimators', range(100,5000)),\n",
    "    'criterion': hp.choice('criterion', [\"gini\", \"entropy\"])}"
   ]
  },
  {
   "cell_type": "code",
   "execution_count": 82,
   "metadata": {},
   "outputs": [],
   "source": [
    "best = 0\n",
    "def f(params):\n",
    "    global best\n",
    "    acc = acc_model(params)\n",
    "    if acc > best:\n",
    "        best = acc\n",
    "    print ('new best:', best, params)\n",
    "    return {'loss': -acc, 'status': STATUS_OK}"
   ]
  },
  {
   "cell_type": "code",
   "execution_count": 83,
   "metadata": {
    "scrolled": true
   },
   "outputs": [
    {
     "name": "stdout",
     "output_type": "stream",
     "text": [
      "new best:                                             \n",
      "0.8482108606566854                                    \n",
      "{'criterion': 'gini', 'max_depth': 5, 'max_features': 7, 'n_estimators': 869}\n",
      "new best:                                                                        \n",
      "0.8691178747436181                                                               \n",
      "{'criterion': 'gini', 'max_depth': 20, 'max_features': 6, 'n_estimators': 2076}  \n",
      "new best:                                                                         \n",
      "0.8691178747436181                                                                \n",
      "{'criterion': 'gini', 'max_depth': 2, 'max_features': 5, 'n_estimators': 784}     \n",
      "new best:                                                                         \n",
      "0.8691178747436181                                                                \n",
      "{'criterion': 'entropy', 'max_depth': 22, 'max_features': 7, 'n_estimators': 2192}\n",
      "new best:                                                                         \n",
      "0.8735647408013625                                                                \n",
      "{'criterion': 'gini', 'max_depth': 19, 'max_features': 3, 'n_estimators': 2549}   \n",
      "new best:                                                                         \n",
      "0.8749582818624271                                                                \n",
      "{'criterion': 'entropy', 'max_depth': 17, 'max_features': 4, 'n_estimators': 389} \n",
      "new best:                                                                         \n",
      "0.8795378619214989                                                                \n",
      "{'criterion': 'entropy', 'max_depth': 12, 'max_features': 5, 'n_estimators': 307} \n",
      "new best:                                                                         \n",
      "0.8795378619214989                                                                \n",
      "{'criterion': 'gini', 'max_depth': 12, 'max_features': 2, 'n_estimators': 2416}   \n",
      "new best:                                                                         \n",
      "0.8795378619214989                                                                \n",
      "{'criterion': 'gini', 'max_depth': 2, 'max_features': 3, 'n_estimators': 614}     \n",
      "new best:                                                                         \n",
      "0.8795378619214989                                                                \n",
      "{'criterion': 'entropy', 'max_depth': 6, 'max_features': 7, 'n_estimators': 2932} \n",
      "100%|██████████| 10/10 [30:59<00:00, 185.96s/trial, best loss: -0.8795378619214989]\n",
      "best:\n",
      "{'criterion': 1, 'max_depth': 11, 'max_features': 4, 'n_estimators': 207}\n"
     ]
    }
   ],
   "source": [
    "trials = Trials()\n",
    "best = fmin(f, param_space, algo=tpe.suggest, max_evals=10, trials=trials)\n",
    "print ('best:')\n",
    "print (best)"
   ]
  },
  {
   "cell_type": "code",
   "execution_count": null,
   "metadata": {},
   "outputs": [],
   "source": [
    "for - Breed\n",
    "XGB: {'max_delta_step': 2, 'max_depth': 8, 'min_child_weight': 0, 'n_estimators': 1424} - 89%\n",
    "RF: {'criterion': 0, 'max_depth': 3, 'max_features': 4, 'n_estimators': 1259} - 90.2%\n",
    "EXT:{'criterion': 0, 'max_depth': 5, 'max_features': 5, 'n_estimators': 913} - 90.27\n",
    "    \n",
    "for - Pet\n",
    "XGB - {'max_delta_step': 1, 'max_depth': 2, 'min_child_weight': 9, 'n_estimators': 1910}  -  86.04\n",
    "RF: {'criterion': 1, 'max_depth': 12, 'max_features': 1, 'n_estimators': 1309} - 87.09\n",
    "EXT: {'criterion': 1, 'max_depth': 11, 'max_features': 4, 'n_estimators': 207} - 87.9\n"
   ]
  },
  {
   "cell_type": "code",
   "execution_count": 53,
   "metadata": {},
   "outputs": [],
   "source": [
    "x_train=pet_train.drop(['breed_category','pet_category'],axis=1)\n",
    "x_train_breed=pet_train.drop('breed_category',axis=1)\n",
    "x_train_pet=pet_train.drop('pet_category',axis=1)\n",
    "y_train_breed=pet_train['breed_category']\n",
    "y_train_pet=pet_train['pet_category']"
   ]
  },
  {
   "cell_type": "code",
   "execution_count": 54,
   "metadata": {},
   "outputs": [],
   "source": [
    "x_test=pet_test"
   ]
  },
  {
   "cell_type": "code",
   "execution_count": null,
   "metadata": {},
   "outputs": [],
   "source": []
  },
  {
   "cell_type": "markdown",
   "metadata": {},
   "source": [
    "Aplaying Model"
   ]
  },
  {
   "cell_type": "code",
   "execution_count": null,
   "metadata": {},
   "outputs": [],
   "source": []
  },
  {
   "cell_type": "code",
   "execution_count": 78,
   "metadata": {
    "scrolled": true
   },
   "outputs": [],
   "source": [
    "clf = OneVsRestClassifier(ExtraTreesClassifier(n_jobs=-1)).fit(x_train, y_train_breed)"
   ]
  },
  {
   "cell_type": "code",
   "execution_count": 79,
   "metadata": {},
   "outputs": [
    {
     "data": {
      "text/plain": [
       "1.0"
      ]
     },
     "execution_count": 79,
     "metadata": {},
     "output_type": "execute_result"
    }
   ],
   "source": [
    "clf.score(x_train,y_train_breed)"
   ]
  },
  {
   "cell_type": "code",
   "execution_count": 16,
   "metadata": {},
   "outputs": [
    {
     "data": {
      "text/html": [
       "<div>\n",
       "<style scoped>\n",
       "    .dataframe tbody tr th:only-of-type {\n",
       "        vertical-align: middle;\n",
       "    }\n",
       "\n",
       "    .dataframe tbody tr th {\n",
       "        vertical-align: top;\n",
       "    }\n",
       "\n",
       "    .dataframe thead th {\n",
       "        text-align: right;\n",
       "    }\n",
       "</style>\n",
       "<table border=\"1\" class=\"dataframe\">\n",
       "  <thead>\n",
       "    <tr style=\"text-align: right;\">\n",
       "      <th></th>\n",
       "      <th>condition</th>\n",
       "      <th>length(m)</th>\n",
       "      <th>height(cm)</th>\n",
       "      <th>X1</th>\n",
       "      <th>X2</th>\n",
       "      <th>color_type1</th>\n",
       "      <th>color_type2</th>\n",
       "      <th>color_type3</th>\n",
       "    </tr>\n",
       "  </thead>\n",
       "  <tbody>\n",
       "    <tr>\n",
       "      <th>0</th>\n",
       "      <td>0.0</td>\n",
       "      <td>0.87</td>\n",
       "      <td>42.73</td>\n",
       "      <td>0</td>\n",
       "      <td>7</td>\n",
       "      <td>-9.410458</td>\n",
       "      <td>-25.757317</td>\n",
       "      <td>-11.774953</td>\n",
       "    </tr>\n",
       "    <tr>\n",
       "      <th>1</th>\n",
       "      <td>1.0</td>\n",
       "      <td>0.06</td>\n",
       "      <td>6.71</td>\n",
       "      <td>0</td>\n",
       "      <td>1</td>\n",
       "      <td>8.076126</td>\n",
       "      <td>-39.063812</td>\n",
       "      <td>-11.360184</td>\n",
       "    </tr>\n",
       "    <tr>\n",
       "      <th>2</th>\n",
       "      <td>1.0</td>\n",
       "      <td>0.24</td>\n",
       "      <td>41.21</td>\n",
       "      <td>0</td>\n",
       "      <td>7</td>\n",
       "      <td>-9.410458</td>\n",
       "      <td>-25.757317</td>\n",
       "      <td>-11.774953</td>\n",
       "    </tr>\n",
       "    <tr>\n",
       "      <th>3</th>\n",
       "      <td>1.0</td>\n",
       "      <td>0.29</td>\n",
       "      <td>8.46</td>\n",
       "      <td>7</td>\n",
       "      <td>1</td>\n",
       "      <td>-9.410458</td>\n",
       "      <td>-25.757317</td>\n",
       "      <td>-11.774953</td>\n",
       "    </tr>\n",
       "    <tr>\n",
       "      <th>4</th>\n",
       "      <td>1.0</td>\n",
       "      <td>0.71</td>\n",
       "      <td>30.92</td>\n",
       "      <td>0</td>\n",
       "      <td>7</td>\n",
       "      <td>-34.015579</td>\n",
       "      <td>-0.833776</td>\n",
       "      <td>-6.739098</td>\n",
       "    </tr>\n",
       "  </tbody>\n",
       "</table>\n",
       "</div>"
      ],
      "text/plain": [
       "   condition  length(m)  height(cm)  X1  X2  color_type1  color_type2  \\\n",
       "0        0.0       0.87       42.73   0   7    -9.410458   -25.757317   \n",
       "1        1.0       0.06        6.71   0   1     8.076126   -39.063812   \n",
       "2        1.0       0.24       41.21   0   7    -9.410458   -25.757317   \n",
       "3        1.0       0.29        8.46   7   1    -9.410458   -25.757317   \n",
       "4        1.0       0.71       30.92   0   7   -34.015579    -0.833776   \n",
       "\n",
       "   color_type3  \n",
       "0   -11.774953  \n",
       "1   -11.360184  \n",
       "2   -11.774953  \n",
       "3   -11.774953  \n",
       "4    -6.739098  "
      ]
     },
     "execution_count": 16,
     "metadata": {},
     "output_type": "execute_result"
    }
   ],
   "source": [
    "x_test.head(5)"
   ]
  },
  {
   "cell_type": "code",
   "execution_count": 80,
   "metadata": {},
   "outputs": [],
   "source": [
    "y_pred_breed_cat=clf.predict(x_test)"
   ]
  },
  {
   "cell_type": "code",
   "execution_count": 77,
   "metadata": {},
   "outputs": [
    {
     "data": {
      "text/html": [
       "<div>\n",
       "<style scoped>\n",
       "    .dataframe tbody tr th:only-of-type {\n",
       "        vertical-align: middle;\n",
       "    }\n",
       "\n",
       "    .dataframe tbody tr th {\n",
       "        vertical-align: top;\n",
       "    }\n",
       "\n",
       "    .dataframe thead th {\n",
       "        text-align: right;\n",
       "    }\n",
       "</style>\n",
       "<table border=\"1\" class=\"dataframe\">\n",
       "  <thead>\n",
       "    <tr style=\"text-align: right;\">\n",
       "      <th></th>\n",
       "      <th>condition</th>\n",
       "      <th>length(m)</th>\n",
       "      <th>height(cm)</th>\n",
       "      <th>X1</th>\n",
       "      <th>X2</th>\n",
       "      <th>breed_category</th>\n",
       "      <th>day_diff</th>\n",
       "      <th>color_type1</th>\n",
       "      <th>color_type2</th>\n",
       "      <th>color_type3</th>\n",
       "    </tr>\n",
       "  </thead>\n",
       "  <tbody>\n",
       "    <tr>\n",
       "      <th>0</th>\n",
       "      <td>0.0</td>\n",
       "      <td>0.87</td>\n",
       "      <td>42.73</td>\n",
       "      <td>0</td>\n",
       "      <td>7</td>\n",
       "      <td>2</td>\n",
       "      <td>380561700000000000</td>\n",
       "      <td>18.971708</td>\n",
       "      <td>4.500733</td>\n",
       "      <td>-13.109763</td>\n",
       "    </tr>\n",
       "    <tr>\n",
       "      <th>1</th>\n",
       "      <td>1.0</td>\n",
       "      <td>0.06</td>\n",
       "      <td>6.71</td>\n",
       "      <td>0</td>\n",
       "      <td>1</td>\n",
       "      <td>2</td>\n",
       "      <td>15096240000000000</td>\n",
       "      <td>3.645189</td>\n",
       "      <td>21.368313</td>\n",
       "      <td>-18.906076</td>\n",
       "    </tr>\n",
       "    <tr>\n",
       "      <th>2</th>\n",
       "      <td>1.0</td>\n",
       "      <td>0.24</td>\n",
       "      <td>41.21</td>\n",
       "      <td>0</td>\n",
       "      <td>7</td>\n",
       "      <td>2</td>\n",
       "      <td>172774260000000000</td>\n",
       "      <td>18.971708</td>\n",
       "      <td>4.500733</td>\n",
       "      <td>-13.109763</td>\n",
       "    </tr>\n",
       "    <tr>\n",
       "      <th>3</th>\n",
       "      <td>1.0</td>\n",
       "      <td>0.29</td>\n",
       "      <td>8.46</td>\n",
       "      <td>7</td>\n",
       "      <td>1</td>\n",
       "      <td>2</td>\n",
       "      <td>99213900000000000</td>\n",
       "      <td>18.971708</td>\n",
       "      <td>4.500733</td>\n",
       "      <td>-13.109763</td>\n",
       "    </tr>\n",
       "    <tr>\n",
       "      <th>4</th>\n",
       "      <td>1.0</td>\n",
       "      <td>0.71</td>\n",
       "      <td>30.92</td>\n",
       "      <td>0</td>\n",
       "      <td>7</td>\n",
       "      <td>2</td>\n",
       "      <td>40052520000000000</td>\n",
       "      <td>21.690432</td>\n",
       "      <td>26.462399</td>\n",
       "      <td>-3.971352</td>\n",
       "    </tr>\n",
       "  </tbody>\n",
       "</table>\n",
       "</div>"
      ],
      "text/plain": [
       "   condition  length(m)  height(cm)  X1  X2  breed_category  \\\n",
       "0        0.0       0.87       42.73   0   7               2   \n",
       "1        1.0       0.06        6.71   0   1               2   \n",
       "2        1.0       0.24       41.21   0   7               2   \n",
       "3        1.0       0.29        8.46   7   1               2   \n",
       "4        1.0       0.71       30.92   0   7               2   \n",
       "\n",
       "             day_diff  color_type1  color_type2  color_type3  \n",
       "0  380561700000000000    18.971708     4.500733   -13.109763  \n",
       "1   15096240000000000     3.645189    21.368313   -18.906076  \n",
       "2  172774260000000000    18.971708     4.500733   -13.109763  \n",
       "3   99213900000000000    18.971708     4.500733   -13.109763  \n",
       "4   40052520000000000    21.690432    26.462399    -3.971352  "
      ]
     },
     "execution_count": 77,
     "metadata": {},
     "output_type": "execute_result"
    }
   ],
   "source": [
    "x_test['breed_category']=clf.predict(x_test)\n",
    "x_test=x_test[x_train_pet.columns]\n",
    "x_test.head(5)"
   ]
  },
  {
   "cell_type": "code",
   "execution_count": null,
   "metadata": {},
   "outputs": [],
   "source": []
  },
  {
   "cell_type": "code",
   "execution_count": 161,
   "metadata": {
    "scrolled": true
   },
   "outputs": [
    {
     "ename": "KeyError",
     "evalue": "\"['breed_category'] not found in axis\"",
     "output_type": "error",
     "traceback": [
      "\u001b[1;31m---------------------------------------------------------------------------\u001b[0m",
      "\u001b[1;31mKeyError\u001b[0m                                  Traceback (most recent call last)",
      "\u001b[1;32m<ipython-input-161-49f07e59c6f6>\u001b[0m in \u001b[0;36m<module>\u001b[1;34m\u001b[0m\n\u001b[1;32m----> 1\u001b[1;33m \u001b[0mx_test\u001b[0m\u001b[1;33m=\u001b[0m\u001b[0mx_test\u001b[0m\u001b[1;33m.\u001b[0m\u001b[0mdrop\u001b[0m\u001b[1;33m(\u001b[0m\u001b[1;33m[\u001b[0m\u001b[1;34m'breed_category'\u001b[0m\u001b[1;33m]\u001b[0m\u001b[1;33m,\u001b[0m\u001b[0maxis\u001b[0m\u001b[1;33m=\u001b[0m\u001b[1;36m1\u001b[0m\u001b[1;33m)\u001b[0m\u001b[1;33m\u001b[0m\u001b[1;33m\u001b[0m\u001b[0m\n\u001b[0m",
      "\u001b[1;32mE:\\ProgramData\\Anaconda3\\envs\\tensorflow\\lib\\site-packages\\pandas\\core\\frame.py\u001b[0m in \u001b[0;36mdrop\u001b[1;34m(self, labels, axis, index, columns, level, inplace, errors)\u001b[0m\n\u001b[0;32m   4162\u001b[0m             \u001b[0mlevel\u001b[0m\u001b[1;33m=\u001b[0m\u001b[0mlevel\u001b[0m\u001b[1;33m,\u001b[0m\u001b[1;33m\u001b[0m\u001b[1;33m\u001b[0m\u001b[0m\n\u001b[0;32m   4163\u001b[0m             \u001b[0minplace\u001b[0m\u001b[1;33m=\u001b[0m\u001b[0minplace\u001b[0m\u001b[1;33m,\u001b[0m\u001b[1;33m\u001b[0m\u001b[1;33m\u001b[0m\u001b[0m\n\u001b[1;32m-> 4164\u001b[1;33m             \u001b[0merrors\u001b[0m\u001b[1;33m=\u001b[0m\u001b[0merrors\u001b[0m\u001b[1;33m,\u001b[0m\u001b[1;33m\u001b[0m\u001b[1;33m\u001b[0m\u001b[0m\n\u001b[0m\u001b[0;32m   4165\u001b[0m         )\n\u001b[0;32m   4166\u001b[0m \u001b[1;33m\u001b[0m\u001b[0m\n",
      "\u001b[1;32mE:\\ProgramData\\Anaconda3\\envs\\tensorflow\\lib\\site-packages\\pandas\\core\\generic.py\u001b[0m in \u001b[0;36mdrop\u001b[1;34m(self, labels, axis, index, columns, level, inplace, errors)\u001b[0m\n\u001b[0;32m   3876\u001b[0m         \u001b[1;32mfor\u001b[0m \u001b[0maxis\u001b[0m\u001b[1;33m,\u001b[0m \u001b[0mlabels\u001b[0m \u001b[1;32min\u001b[0m \u001b[0maxes\u001b[0m\u001b[1;33m.\u001b[0m\u001b[0mitems\u001b[0m\u001b[1;33m(\u001b[0m\u001b[1;33m)\u001b[0m\u001b[1;33m:\u001b[0m\u001b[1;33m\u001b[0m\u001b[1;33m\u001b[0m\u001b[0m\n\u001b[0;32m   3877\u001b[0m             \u001b[1;32mif\u001b[0m \u001b[0mlabels\u001b[0m \u001b[1;32mis\u001b[0m \u001b[1;32mnot\u001b[0m \u001b[1;32mNone\u001b[0m\u001b[1;33m:\u001b[0m\u001b[1;33m\u001b[0m\u001b[1;33m\u001b[0m\u001b[0m\n\u001b[1;32m-> 3878\u001b[1;33m                 \u001b[0mobj\u001b[0m \u001b[1;33m=\u001b[0m \u001b[0mobj\u001b[0m\u001b[1;33m.\u001b[0m\u001b[0m_drop_axis\u001b[0m\u001b[1;33m(\u001b[0m\u001b[0mlabels\u001b[0m\u001b[1;33m,\u001b[0m \u001b[0maxis\u001b[0m\u001b[1;33m,\u001b[0m \u001b[0mlevel\u001b[0m\u001b[1;33m=\u001b[0m\u001b[0mlevel\u001b[0m\u001b[1;33m,\u001b[0m \u001b[0merrors\u001b[0m\u001b[1;33m=\u001b[0m\u001b[0merrors\u001b[0m\u001b[1;33m)\u001b[0m\u001b[1;33m\u001b[0m\u001b[1;33m\u001b[0m\u001b[0m\n\u001b[0m\u001b[0;32m   3879\u001b[0m \u001b[1;33m\u001b[0m\u001b[0m\n\u001b[0;32m   3880\u001b[0m         \u001b[1;32mif\u001b[0m \u001b[0minplace\u001b[0m\u001b[1;33m:\u001b[0m\u001b[1;33m\u001b[0m\u001b[1;33m\u001b[0m\u001b[0m\n",
      "\u001b[1;32mE:\\ProgramData\\Anaconda3\\envs\\tensorflow\\lib\\site-packages\\pandas\\core\\generic.py\u001b[0m in \u001b[0;36m_drop_axis\u001b[1;34m(self, labels, axis, level, errors)\u001b[0m\n\u001b[0;32m   3910\u001b[0m                 \u001b[0mnew_axis\u001b[0m \u001b[1;33m=\u001b[0m \u001b[0maxis\u001b[0m\u001b[1;33m.\u001b[0m\u001b[0mdrop\u001b[0m\u001b[1;33m(\u001b[0m\u001b[0mlabels\u001b[0m\u001b[1;33m,\u001b[0m \u001b[0mlevel\u001b[0m\u001b[1;33m=\u001b[0m\u001b[0mlevel\u001b[0m\u001b[1;33m,\u001b[0m \u001b[0merrors\u001b[0m\u001b[1;33m=\u001b[0m\u001b[0merrors\u001b[0m\u001b[1;33m)\u001b[0m\u001b[1;33m\u001b[0m\u001b[1;33m\u001b[0m\u001b[0m\n\u001b[0;32m   3911\u001b[0m             \u001b[1;32melse\u001b[0m\u001b[1;33m:\u001b[0m\u001b[1;33m\u001b[0m\u001b[1;33m\u001b[0m\u001b[0m\n\u001b[1;32m-> 3912\u001b[1;33m                 \u001b[0mnew_axis\u001b[0m \u001b[1;33m=\u001b[0m \u001b[0maxis\u001b[0m\u001b[1;33m.\u001b[0m\u001b[0mdrop\u001b[0m\u001b[1;33m(\u001b[0m\u001b[0mlabels\u001b[0m\u001b[1;33m,\u001b[0m \u001b[0merrors\u001b[0m\u001b[1;33m=\u001b[0m\u001b[0merrors\u001b[0m\u001b[1;33m)\u001b[0m\u001b[1;33m\u001b[0m\u001b[1;33m\u001b[0m\u001b[0m\n\u001b[0m\u001b[0;32m   3913\u001b[0m             \u001b[0mresult\u001b[0m \u001b[1;33m=\u001b[0m \u001b[0mself\u001b[0m\u001b[1;33m.\u001b[0m\u001b[0mreindex\u001b[0m\u001b[1;33m(\u001b[0m\u001b[1;33m**\u001b[0m\u001b[1;33m{\u001b[0m\u001b[0maxis_name\u001b[0m\u001b[1;33m:\u001b[0m \u001b[0mnew_axis\u001b[0m\u001b[1;33m}\u001b[0m\u001b[1;33m)\u001b[0m\u001b[1;33m\u001b[0m\u001b[1;33m\u001b[0m\u001b[0m\n\u001b[0;32m   3914\u001b[0m \u001b[1;33m\u001b[0m\u001b[0m\n",
      "\u001b[1;32mE:\\ProgramData\\Anaconda3\\envs\\tensorflow\\lib\\site-packages\\pandas\\core\\indexes\\base.py\u001b[0m in \u001b[0;36mdrop\u001b[1;34m(self, labels, errors)\u001b[0m\n\u001b[0;32m   5274\u001b[0m         \u001b[1;32mif\u001b[0m \u001b[0mmask\u001b[0m\u001b[1;33m.\u001b[0m\u001b[0many\u001b[0m\u001b[1;33m(\u001b[0m\u001b[1;33m)\u001b[0m\u001b[1;33m:\u001b[0m\u001b[1;33m\u001b[0m\u001b[1;33m\u001b[0m\u001b[0m\n\u001b[0;32m   5275\u001b[0m             \u001b[1;32mif\u001b[0m \u001b[0merrors\u001b[0m \u001b[1;33m!=\u001b[0m \u001b[1;34m\"ignore\"\u001b[0m\u001b[1;33m:\u001b[0m\u001b[1;33m\u001b[0m\u001b[1;33m\u001b[0m\u001b[0m\n\u001b[1;32m-> 5276\u001b[1;33m                 \u001b[1;32mraise\u001b[0m \u001b[0mKeyError\u001b[0m\u001b[1;33m(\u001b[0m\u001b[1;34mf\"{labels[mask]} not found in axis\"\u001b[0m\u001b[1;33m)\u001b[0m\u001b[1;33m\u001b[0m\u001b[1;33m\u001b[0m\u001b[0m\n\u001b[0m\u001b[0;32m   5277\u001b[0m             \u001b[0mindexer\u001b[0m \u001b[1;33m=\u001b[0m \u001b[0mindexer\u001b[0m\u001b[1;33m[\u001b[0m\u001b[1;33m~\u001b[0m\u001b[0mmask\u001b[0m\u001b[1;33m]\u001b[0m\u001b[1;33m\u001b[0m\u001b[1;33m\u001b[0m\u001b[0m\n\u001b[0;32m   5278\u001b[0m         \u001b[1;32mreturn\u001b[0m \u001b[0mself\u001b[0m\u001b[1;33m.\u001b[0m\u001b[0mdelete\u001b[0m\u001b[1;33m(\u001b[0m\u001b[0mindexer\u001b[0m\u001b[1;33m)\u001b[0m\u001b[1;33m\u001b[0m\u001b[1;33m\u001b[0m\u001b[0m\n",
      "\u001b[1;31mKeyError\u001b[0m: \"['breed_category'] not found in axis\""
     ]
    }
   ],
   "source": [
    "x_test=x_test.drop(['breed_category'],axis=1)"
   ]
  },
  {
   "cell_type": "code",
   "execution_count": 59,
   "metadata": {},
   "outputs": [],
   "source": [
    "from sklearn.metrics import accuracy_score, classification_report "
   ]
  },
  {
   "cell_type": "code",
   "execution_count": 63,
   "metadata": {},
   "outputs": [
    {
     "name": "stdout",
     "output_type": "stream",
     "text": [
      "Collecting xgboostNote: you may need to restart the kernel to use updated packages.\n",
      "  Downloading xgboost-1.1.1-py3-none-win_amd64.whl (54.4 MB)\n",
      "Requirement already satisfied: scipy in e:\\programdata\\anaconda3\\envs\\tensorflow\\lib\\site-packages (from xgboost) (1.5.0)\n",
      "Requirement already satisfied: numpy in e:\\programdata\\anaconda3\\envs\\tensorflow\\lib\\site-packages (from xgboost) (1.19.1)\n",
      "Installing collected packages: xgboost\n",
      "Successfully installed xgboost-1.1.1\n",
      "\n"
     ]
    },
    {
     "name": "stderr",
     "output_type": "stream",
     "text": [
      "The system cannot find the path specified.\n"
     ]
    }
   ],
   "source": [
    "pip install xgboost --default-timeout=100"
   ]
  },
  {
   "cell_type": "code",
   "execution_count": null,
   "metadata": {},
   "outputs": [],
   "source": []
  },
  {
   "cell_type": "markdown",
   "metadata": {},
   "source": [
    "SVC - for pet catagory"
   ]
  },
  {
   "cell_type": "code",
   "execution_count": 81,
   "metadata": {},
   "outputs": [],
   "source": [
    "clf=OneVsRestClassifier(ExtraTreesClassifier(n_jobs=-1)).fit(x_train,y_train_pet)"
   ]
  },
  {
   "cell_type": "code",
   "execution_count": 82,
   "metadata": {},
   "outputs": [
    {
     "data": {
      "text/plain": [
       "1.0"
      ]
     },
     "execution_count": 82,
     "metadata": {},
     "output_type": "execute_result"
    }
   ],
   "source": [
    "clf.score(x_train,y_train_pet)"
   ]
  },
  {
   "cell_type": "code",
   "execution_count": 83,
   "metadata": {},
   "outputs": [],
   "source": [
    "y_pred_pet_cat=clf.predict(x_test)"
   ]
  },
  {
   "cell_type": "code",
   "execution_count": 58,
   "metadata": {},
   "outputs": [
    {
     "data": {
      "text/plain": [
       "array([2, 1, 2, ..., 2, 2, 2], dtype=int64)"
      ]
     },
     "execution_count": 58,
     "metadata": {},
     "output_type": "execute_result"
    }
   ],
   "source": [
    "y_pred_pet_cat"
   ]
  },
  {
   "cell_type": "code",
   "execution_count": 63,
   "metadata": {},
   "outputs": [],
   "source": [
    "temp=pd.read_csv(r\"C:\\Users\\JaisoN\\Desktop\\Desktop\\Hacker_Earth\\Adopt a buddy\\Dataset\\test.csv\")"
   ]
  },
  {
   "cell_type": "code",
   "execution_count": null,
   "metadata": {},
   "outputs": [],
   "source": []
  },
  {
   "cell_type": "code",
   "execution_count": 84,
   "metadata": {},
   "outputs": [],
   "source": [
    "submission=pd.DataFrame\n",
    "({\n",
    "    'pet_id': temp['pet_id'],\n",
    "    'breed_category':y_pred_breed_cat,\n",
    "    'pet_category':y_pred_pet_cat\n",
    "})"
   ]
  },
  {
   "cell_type": "code",
   "execution_count": 85,
   "metadata": {},
   "outputs": [],
   "source": [
    "submission.to_csv('pet_adoption.csv', index=False)"
   ]
  },
  {
   "cell_type": "code",
   "execution_count": 86,
   "metadata": {},
   "outputs": [
    {
     "data": {
      "text/plain": [
       "0.0    4063\n",
       "1.0    3488\n",
       "2.0     521\n",
       "Name: breed_category, dtype: int64"
      ]
     },
     "execution_count": 86,
     "metadata": {},
     "output_type": "execute_result"
    }
   ],
   "source": [
    "submission['breed_category'].value_counts()"
   ]
  },
  {
   "cell_type": "code",
   "execution_count": 87,
   "metadata": {},
   "outputs": [
    {
     "data": {
      "text/plain": [
       "2    5263\n",
       "1    2546\n",
       "4     257\n",
       "0       6\n",
       "Name: pet_category, dtype: int64"
      ]
     },
     "execution_count": 87,
     "metadata": {},
     "output_type": "execute_result"
    }
   ],
   "source": [
    "submission['pet_category'].value_counts()"
   ]
  },
  {
   "cell_type": "code",
   "execution_count": 172,
   "metadata": {},
   "outputs": [
    {
     "data": {
      "text/html": [
       "<div>\n",
       "<style scoped>\n",
       "    .dataframe tbody tr th:only-of-type {\n",
       "        vertical-align: middle;\n",
       "    }\n",
       "\n",
       "    .dataframe tbody tr th {\n",
       "        vertical-align: top;\n",
       "    }\n",
       "\n",
       "    .dataframe thead th {\n",
       "        text-align: right;\n",
       "    }\n",
       "</style>\n",
       "<table border=\"1\" class=\"dataframe\">\n",
       "  <thead>\n",
       "    <tr style=\"text-align: right;\">\n",
       "      <th></th>\n",
       "      <th>condition</th>\n",
       "      <th>length(m)</th>\n",
       "      <th>height(cm)</th>\n",
       "      <th>X1</th>\n",
       "      <th>X2</th>\n",
       "      <th>pet_category</th>\n",
       "      <th>day_diff</th>\n",
       "      <th>color_type1</th>\n",
       "      <th>color_type2</th>\n",
       "      <th>color_type3</th>\n",
       "    </tr>\n",
       "  </thead>\n",
       "  <tbody>\n",
       "    <tr>\n",
       "      <th>0</th>\n",
       "      <td>0.0</td>\n",
       "      <td>0.87</td>\n",
       "      <td>42.73</td>\n",
       "      <td>0</td>\n",
       "      <td>7</td>\n",
       "      <td>2</td>\n",
       "      <td>380561700000000000</td>\n",
       "      <td>7.536939</td>\n",
       "      <td>-16.695566</td>\n",
       "      <td>-4.424664</td>\n",
       "    </tr>\n",
       "    <tr>\n",
       "      <th>1</th>\n",
       "      <td>1.0</td>\n",
       "      <td>0.06</td>\n",
       "      <td>6.71</td>\n",
       "      <td>0</td>\n",
       "      <td>1</td>\n",
       "      <td>2</td>\n",
       "      <td>15096240000000000</td>\n",
       "      <td>-29.823044</td>\n",
       "      <td>-28.958437</td>\n",
       "      <td>-34.617458</td>\n",
       "    </tr>\n",
       "    <tr>\n",
       "      <th>2</th>\n",
       "      <td>1.0</td>\n",
       "      <td>0.24</td>\n",
       "      <td>41.21</td>\n",
       "      <td>0</td>\n",
       "      <td>7</td>\n",
       "      <td>2</td>\n",
       "      <td>172774260000000000</td>\n",
       "      <td>7.536939</td>\n",
       "      <td>-16.695566</td>\n",
       "      <td>-4.424664</td>\n",
       "    </tr>\n",
       "    <tr>\n",
       "      <th>3</th>\n",
       "      <td>1.0</td>\n",
       "      <td>0.29</td>\n",
       "      <td>8.46</td>\n",
       "      <td>7</td>\n",
       "      <td>1</td>\n",
       "      <td>1</td>\n",
       "      <td>99213900000000000</td>\n",
       "      <td>7.536939</td>\n",
       "      <td>-16.695566</td>\n",
       "      <td>-4.424664</td>\n",
       "    </tr>\n",
       "    <tr>\n",
       "      <th>4</th>\n",
       "      <td>1.0</td>\n",
       "      <td>0.71</td>\n",
       "      <td>30.92</td>\n",
       "      <td>0</td>\n",
       "      <td>7</td>\n",
       "      <td>2</td>\n",
       "      <td>40052520000000000</td>\n",
       "      <td>9.865405</td>\n",
       "      <td>-16.457994</td>\n",
       "      <td>17.933245</td>\n",
       "    </tr>\n",
       "  </tbody>\n",
       "</table>\n",
       "</div>"
      ],
      "text/plain": [
       "   condition  length(m)  height(cm)  X1  X2  pet_category            day_diff  \\\n",
       "0        0.0       0.87       42.73   0   7             2  380561700000000000   \n",
       "1        1.0       0.06        6.71   0   1             2   15096240000000000   \n",
       "2        1.0       0.24       41.21   0   7             2  172774260000000000   \n",
       "3        1.0       0.29        8.46   7   1             1   99213900000000000   \n",
       "4        1.0       0.71       30.92   0   7             2   40052520000000000   \n",
       "\n",
       "   color_type1  color_type2  color_type3  \n",
       "0     7.536939   -16.695566    -4.424664  \n",
       "1   -29.823044   -28.958437   -34.617458  \n",
       "2     7.536939   -16.695566    -4.424664  \n",
       "3     7.536939   -16.695566    -4.424664  \n",
       "4     9.865405   -16.457994    17.933245  "
      ]
     },
     "execution_count": 172,
     "metadata": {},
     "output_type": "execute_result"
    }
   ],
   "source": [
    "#x_test['pet_category']=clf.predict(x_test)\n",
    "\n",
    "x_test=x_test[x_train_breed.columns]\n",
    "x_test.head(5)"
   ]
  },
  {
   "cell_type": "code",
   "execution_count": 170,
   "metadata": {},
   "outputs": [],
   "source": [
    "x_test=x_test.drop(['breed_category'],axis=1)"
   ]
  },
  {
   "cell_type": "code",
   "execution_count": null,
   "metadata": {},
   "outputs": [],
   "source": []
  }
 ],
 "metadata": {
  "kernelspec": {
   "display_name": "Python 3",
   "language": "python",
   "name": "python3"
  },
  "language_info": {
   "codemirror_mode": {
    "name": "ipython",
    "version": 3
   },
   "file_extension": ".py",
   "mimetype": "text/x-python",
   "name": "python",
   "nbconvert_exporter": "python",
   "pygments_lexer": "ipython3",
   "version": "3.7.8"
  }
 },
 "nbformat": 4,
 "nbformat_minor": 4
}
